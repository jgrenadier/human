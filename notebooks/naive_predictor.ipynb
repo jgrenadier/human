{
 "cells": [
  {
   "cell_type": "code",
   "execution_count": 14,
   "metadata": {},
   "outputs": [],
   "source": [
    "import warnings\n",
    "\n",
    "import pandas as pd\n",
    "import numpy as np\n",
    "from sklearn.metrics import mean_squared_error\n",
    "\n",
    "import sys\n",
    "sys.path.append('..')\n",
    "from utils import preprocess, missing, evaluate"
   ]
  },
  {
   "cell_type": "code",
   "execution_count": 2,
   "metadata": {},
   "outputs": [],
   "source": [
    "input_dir = '.\\\\..\\\\data\\\\'\n",
    "data_input = \"cleaned_data.pkl\"\n",
    "data = pd.read_pickle(input_dir + data_input)"
   ]
  },
  {
   "cell_type": "code",
   "execution_count": 44,
   "metadata": {},
   "outputs": [],
   "source": [
    "predict_year = 2010\n",
    "target = 'SI.POV.DDAY'"
   ]
  },
  {
   "cell_type": "markdown",
   "metadata": {},
   "source": [
    "### Obtaining the targets\n",
    "\n",
    "Here we read in the cleaned input data and apply the windowing method to get the targets (see the Linear regression file for more details on the windowing method."
   ]
  },
  {
   "cell_type": "code",
   "execution_count": 4,
   "metadata": {},
   "outputs": [
    {
     "name": "stdout",
     "output_type": "stream",
     "text": [
      "Wall time: 42.6 s\n"
     ]
    }
   ],
   "source": [
    "%time data_regressors, data_targets = \\\n",
    "        preprocess.window_data(data, lag=2,num_windows=1, step=1, predict_year=2010, \\\n",
    "                         target=target, impute_type='interpolation')"
   ]
  },
  {
   "cell_type": "code",
   "execution_count": 6,
   "metadata": {},
   "outputs": [],
   "source": [
    "idx = pd.IndexSlice\n",
    "data_test_targets= data_targets.loc[idx[:,1],:]"
   ]
  },
  {
   "cell_type": "markdown",
   "metadata": {},
   "source": [
    "### Naive Predictor\n",
    "\n",
    "Take the average of the last 'n_avg' values of the target variable"
   ]
  },
  {
   "cell_type": "code",
   "execution_count": null,
   "metadata": {},
   "outputs": [],
   "source": [
    "#number of previous values to average over to make prediction\n",
    "n_avg = 1\n",
    "\n",
    "#Note on n_avg: I found that the best result was obtained by setting to 1 (i.e. that the prediction is simply..\n",
    "#the value from last year. I guess that this is not, altogether, very surprising)"
   ]
  },
  {
   "cell_type": "code",
   "execution_count": 20,
   "metadata": {},
   "outputs": [],
   "source": [
    "#First fill in missing values \n",
    "data_imputed = preprocess.impute_data_interpolation(data, predict_year-1, 'linear')"
   ]
  },
  {
   "cell_type": "code",
   "execution_count": 52,
   "metadata": {},
   "outputs": [],
   "source": [
    "#Create an empty output dataframe\n",
    "countries_in_data = list(data_imputed.index.levels[0]) \n",
    "naive_predictions = pd.DataFrame(index=countries_in_data, columns=[target])\n",
    "\n",
    "idx = pd.IndexSlice\n",
    "for country in countries_in_data:\n",
    "    with warnings.catch_warnings():\n",
    "        # it's ok that we are getting the mean of empty arrays sometimes. It's the nature of..\n",
    "        #our data that there is a lot of missing data.\n",
    "        warnings.simplefilter(\"ignore\") \n",
    "        naive_predictions.loc[country] = np.nanmean(data_imputed.loc[idx[country,str(predict_year-n_avg):str(predict_year-1)], 'SI.POV.DDAY' ].values)"
   ]
  },
  {
   "cell_type": "markdown",
   "metadata": {},
   "source": [
    "### Evaluate Naive Predictor"
   ]
  },
  {
   "cell_type": "markdown",
   "metadata": {},
   "source": [
    "\n",
    "If there is no actual value for the country then we should exclude this country from the score. \n",
    "\n",
    "If there is a actual value for the country but we haven't predicted one this should register as a poor score."
   ]
  },
  {
   "cell_type": "code",
   "execution_count": 54,
   "metadata": {},
   "outputs": [
    {
     "name": "stdout",
     "output_type": "stream",
     "text": [
      "MSE for Naive predictor: 4.771564871748177\n"
     ]
    }
   ],
   "source": [
    "mse= mean_squared_error(naive_predictions, data_test_targets )\n",
    "print(\"MSE for Naive predictor:\", np.sqrt(mse))"
   ]
  },
  {
   "cell_type": "code",
   "execution_count": 19,
   "metadata": {},
   "outputs": [],
   "source": [
    "mse_result,no_true_value,countries_not_predicted = evaluate.mse_countries(data_test_targets, naive_predictions, ignore)"
   ]
  }
 ],
 "metadata": {
  "kernelspec": {
   "display_name": "Python 3",
   "language": "python",
   "name": "python3"
  },
  "language_info": {
   "codemirror_mode": {
    "name": "ipython",
    "version": 3
   },
   "file_extension": ".py",
   "mimetype": "text/x-python",
   "name": "python",
   "nbconvert_exporter": "python",
   "pygments_lexer": "ipython3",
   "version": "3.7.2"
  }
 },
 "nbformat": 4,
 "nbformat_minor": 2
}
