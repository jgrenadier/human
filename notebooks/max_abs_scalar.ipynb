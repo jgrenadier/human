{
 "cells": [
  {
   "cell_type": "code",
   "execution_count": 1,
   "metadata": {},
   "outputs": [],
   "source": [
    "# from Microsoft ModelBuilder script.py\n",
    "import logging\n",
    "logger = logging.getLogger(\"azureml.training.tabular\")\n",
    "logger.setLevel(logging.INFO)"
   ]
  },
  {
   "cell_type": "code",
   "execution_count": 2,
   "metadata": {},
   "outputs": [],
   "source": [
    "# !pip install scikit-learn\n",
    "# !pip install sklearn_pandas --user\n",
    "# !pip install azureml \n",
    "\n"
   ]
  },
  {
   "cell_type": "code",
   "execution_count": 3,
   "metadata": {},
   "outputs": [],
   "source": [
    "\n",
    "# !pip install p5py --user\n",
    "# !pip install PEP517 --user\n",
    "# !pip install --upgrade pip setuptools wheel --user\n",
    "# !pip install --upgrade azureml-sdk[notebooks,automl] --user"
   ]
  },
  {
   "cell_type": "code",
   "execution_count": null,
   "metadata": {},
   "outputs": [],
   "source": []
  },
  {
   "cell_type": "code",
   "execution_count": 4,
   "metadata": {},
   "outputs": [],
   "source": [
    "\n",
    "# from Microsoft ModelBuilder script.py\n",
    "def generate_preprocessor_config_0():\n",
    "    from sklearn.preprocessing import MaxAbsScaler\n",
    "    \n",
    "    preproc = MaxAbsScaler(\n",
    "        copy=True\n",
    "    )\n",
    "    \n",
    "    return preproc"
   ]
  },
  {
   "cell_type": "code",
   "execution_count": 5,
   "metadata": {},
   "outputs": [],
   "source": [
    "\n",
    "# from Microsoft ModelBuilder script.py\n",
    "def generate_algorithm_config_0():\n",
    "    from lightgbm.sklearn import LGBMRegressor\n",
    "    \n",
    "    algorithm = LGBMRegressor(\n",
    "        boosting_type='gbdt',\n",
    "        class_weight=None,\n",
    "        colsample_bytree=1.0,\n",
    "        importance_type='split',\n",
    "        learning_rate=0.1,\n",
    "        max_depth=-1,\n",
    "        min_child_samples=20,\n",
    "        min_child_weight=0.001,\n",
    "        min_split_gain=0.0,\n",
    "        n_estimators=100,\n",
    "        n_jobs=-1,\n",
    "        num_leaves=31,\n",
    "        objective=None,\n",
    "        random_state=None,\n",
    "        reg_alpha=0.0,\n",
    "        reg_lambda=0.0,\n",
    "        silent=True,\n",
    "        subsample=1.0,\n",
    "        subsample_for_bin=200000,\n",
    "        subsample_freq=0,\n",
    "        verbose=-1\n",
    "    )\n",
    "    \n",
    "    return algorithm"
   ]
  },
  {
   "cell_type": "code",
   "execution_count": 6,
   "metadata": {},
   "outputs": [],
   "source": [
    "\n",
    "# from Microsoft ModelBuilder script.py\n",
    "def generate_preprocessor_config_1():\n",
    "    from sklearn.preprocessing import MinMaxScaler\n",
    "    \n",
    "    preproc = MinMaxScaler(\n",
    "        copy=True,\n",
    "        feature_range=(0, 1)\n",
    "    )\n",
    "    \n",
    "    return preproc"
   ]
  },
  {
   "cell_type": "code",
   "execution_count": 7,
   "metadata": {},
   "outputs": [],
   "source": [
    "\n",
    "# from Microsoft ModelBuilder script.py\n",
    "def generate_algorithm_config_2():\n",
    "    from sklearn.linear_model import ElasticNet\n",
    "    \n",
    "    algorithm = ElasticNet(\n",
    "        alpha=0.001,\n",
    "        copy_X=True,\n",
    "        fit_intercept=True,\n",
    "        l1_ratio=0.8436842105263158,\n",
    "        max_iter=1000,\n",
    "        normalize=False,\n",
    "        positive=False,\n",
    "        precompute=False,\n",
    "        random_state=None,\n",
    "        selection='cyclic',\n",
    "        tol=0.0001,\n",
    "        warm_start=False\n",
    "    )\n",
    "    \n",
    "    return algorithm"
   ]
  },
  {
   "cell_type": "code",
   "execution_count": 8,
   "metadata": {},
   "outputs": [],
   "source": [
    "\n",
    "# from Microsoft ModelBuilder script.py\n",
    "def generate_algorithm_config():\n",
    "    from azureml.automl.runtime.shared.model_wrappers import PreFittedSoftVotingRegressor\n",
    "    from sklearn.pipeline import Pipeline\n",
    "    \n",
    "    pipeline_0 = Pipeline(steps=[('preproc', generate_preprocessor_config_0()), ('model', generate_algorithm_config_0())])\n",
    "    pipeline_1 = Pipeline(steps=[('preproc', generate_preprocessor_config_1()), ('model', generate_algorithm_config_1())])\n",
    "    pipeline_2 = Pipeline(steps=[('preproc', generate_preprocessor_config_2()), ('model', generate_algorithm_config_2())])\n",
    "    algorithm = PreFittedSoftVotingRegressor(\n",
    "        estimators=[\n",
    "            ('model_0', pipeline_0),\n",
    "            ('model_1', pipeline_1),\n",
    "            ('model_2', pipeline_2),\n",
    "        ],\n",
    "        weights=[0.5, 0.42857142857142855, 0.07142857142857142]\n",
    "    )\n",
    "    \n",
    "    return algorithm"
   ]
  },
  {
   "cell_type": "code",
   "execution_count": 9,
   "metadata": {},
   "outputs": [],
   "source": [
    "\n",
    "# from Microsoft ModelBuilder script.py\n",
    "def build_model_pipeline():\n",
    "    from sklearn.pipeline import Pipeline\n",
    "    \n",
    "    logger.info(\"Running build_model_pipeline\")\n",
    "    pipeline = Pipeline(\n",
    "        steps=[\n",
    "            ('featurization', generate_data_transformation_config()),\n",
    "            ('ensemble', generate_algorithm_config()),\n",
    "        ]\n",
    "    )\n",
    "    \n",
    "    return pipeline"
   ]
  },
  {
   "cell_type": "code",
   "execution_count": 10,
   "metadata": {},
   "outputs": [],
   "source": [
    "\n",
    "# from Microsoft ModelBuilder script.py\n",
    "def train_model(X, y, sample_weights):\n",
    "    # logger.info(\"Running train_model\")\n",
    "    model_pipeline = build_model_pipeline()\n",
    "    \n",
    "    model = model_pipeline.fit(X, y)\n",
    "    return model"
   ]
  },
  {
   "cell_type": "code",
   "execution_count": 11,
   "metadata": {},
   "outputs": [],
   "source": [
    "\n",
    "# from Microsoft ModelBuilder script.py\n",
    "def calculate_metrics(model, X, y, sample_weights, X_test, y_test, cv_splits=None):\n",
    "    from azureml.training.tabular.preprocessing.binning import make_dataset_bins\n",
    "    from azureml.training.tabular.score.scoring import score_regression\n",
    "    \n",
    "    y_pred = model.predict(X_test)\n",
    "    y_min = np.min(y)\n",
    "    y_max = np.max(y)\n",
    "    y_std = np.std(y)\n",
    "    \n",
    "    bin_info = make_dataset_bins(X_test.shape[0], y_test)\n",
    "    metrics = score_regression(\n",
    "        y_test, y_pred, ['normalized_root_mean_squared_error'], y_max, y_min, y_std, sample_weights, bin_info)\n",
    "    return metrics\n"
   ]
  },
  {
   "cell_type": "code",
   "execution_count": 12,
   "metadata": {},
   "outputs": [],
   "source": [
    "def generate_data_transformation_config():\n",
    "    from sklearn.pipeline import FeatureUnion\n",
    "    \n",
    "    column_group_1 = [['Column1'], ['Column2'], ['Column3'], ['Column4'], ['Column5'], ['Column6'], ['Column7'], ['Column8'], ['Column9'], ['Column10'], ['Column11'], ['Column12'], ['Column13'], ['Column14'], ['Column15'], ['Column16'], ['Column17'], ['Column18'], ['Column19'], ['Column20'], ['Column21'], ['Column22'], ['Column23'], ['Column24'], ['Column25'], ['Column26'], ['Column27'], ['Column28'], ['Column29'], ['Column30'], ['Column31'], ['Column32'], ['Column33'], ['Column34'], ['Column35'], ['Column36'], ['Column37'], ['Column38'], ['Column39'], ['Column40'], ['Column41'], ['Column42'], ['Column43'], ['Column44'], ['Column45'], ['Column46'], ['Column47'], ['Column48'], ['Column49'], ['Column50'], ['Column51'], ['Column52'], ['Column53'], ['Column54'], ['Column55'], ['Column56'], ['Column57'], ['Column58'], ['Column59'], ['Column60'], ['Column61'], ['Column62'], ['Column63'], ['Column64'], ['Column65'], ['Column66'], ['Column67'], ['Column68'], ['Column69'], ['Column70'], ['Column71'], ['Column72'], ['Column73'], ['Column74'], ['Column75'], ['Column76'], ['Column77'], ['Column78'], ['Column79'], ['Column80'], ['Column81'], ['Column82'], ['Column83'], ['Column84'], ['Column85'], ['Column86'], ['Column87'], ['Column88'], ['Column89'], ['Column90'], ['Column91'], ['Column92'], ['Column93'], ['Column94'], ['Column95'], ['Column96'], ['Column97'], ['Column98'], ['Column99'], ['Column100'], ['Column101'], ['Column102'], ['Column103'], ['Column104'], ['Column105'], ['Column106'], ['Column107'], ['Column108'], ['Column109'], ['Column110'], ['Column111'], ['Column112'], ['Column113'], ['Column114'], ['Column115'], ['Column116'], ['Column117'], ['Column118'], ['Column119'], ['Column120'], ['Column121'], ['Column122'], ['Column123'], ['Column124'], ['Column125'], ['Column126'], ['Column127'], ['Column128'], ['Column129'], ['Column130'], ['Column131'], ['Column132'], ['Column133'], ['Column134'], ['Column135'], ['Column136'], ['Column137'], ['Column138'], ['Column139'], ['Column140'], ['Column141'], ['Column142'], ['Column143'], ['Column144'], ['Column145'], ['Column146'], ['Column147'], ['Column148'], ['Column149'], ['Column150'], ['Column151'], ['Column152'], ['Column153'], ['Column154'], ['Column155'], ['Column156'], ['Column157'], ['Column158'], ['Column159'], ['Column160'], ['Column161'], ['Column162'], ['Column163'], ['Column164'], ['Column165'], ['Column166'], ['Column167'], ['Column168'], ['Column169'], ['Column170'], ['Column171'], ['Column172'], ['Column173'], ['Column174'], ['Column175'], ['Column176'], ['Column177'], ['Column178'], ['Column179'], ['Column180'], ['Column181'], ['Column182'], ['Column183'], ['Column184'], ['Column185'], ['Column186'], ['Column187'], ['Column188'], ['Column189'], ['Column190'], ['Column191'], ['Column192'], ['Column193'], ['Column194'], ['Column195'], ['Column196'], ['Column197'], ['Column198'], ['Column199'], ['Column200'], ['Column201'], ['Column202'], ['Column203'], ['Column204'], ['Column205'], ['Column206'], ['Column207'], ['Column208'], ['Column209'], ['Column210'], ['Column211'], ['Column212'], ['Column213'], ['Column214'], ['Column215'], ['Column216'], ['Column217'], ['Column218'], ['Column219'], ['Column220'], ['Column221'], ['Column222'], ['Column223'], ['Column224'], ['Column225'], ['Column226'], ['Column227'], ['Column228'], ['Column229'], ['Column230'], ['Column231'], ['Column232'], ['Column233'], ['Column234'], ['Column235'], ['Column236'], ['Column237'], ['Column238'], ['Column239'], ['Column240'], ['Column241'], ['Column242'], ['Column243'], ['Column244'], ['Column245'], ['Column246'], ['Column247'], ['Column248'], ['Column249'], ['Column250'], ['Column251'], ['Column252'], ['Column253'], ['Column254'], ['Column255'], ['Column256'], ['Column257'], ['Column258'], ['Column259'], ['Column260'], ['Column261'], ['Column262'], ['Column263'], ['Column264'], ['Column265'], ['Column266'], ['Column267'], ['Column268'], ['Column269'], ['Column270'], ['Column271'], ['Column272'], ['Column273'], ['Column274'], ['Column275'], ['Column276'], ['Column277'], ['Column278'], ['Column279'], ['Column280'], ['Column281'], ['Column282'], ['Column283'], ['Column284'], ['Column285'], ['Column286'], ['Column287'], ['Column288'], ['Column289'], ['Column290'], ['Column291'], ['Column292'], ['Column293'], ['Column294'], ['Column295'], ['Column296'], ['Column297'], ['Column298'], ['Column299'], ['Column300'], ['Column301'], ['Column302'], ['Column303'], ['Column304'], ['Column305'], ['Column306'], ['Column307'], ['Column308'], ['Column309'], ['Column310'], ['Column311'], ['Column312'], ['Column313'], ['Column314'], ['Column315'], ['Column316'], ['Column317'], ['Column318'], ['Column319'], ['Column320'], ['Column321'], ['Column322'], ['Column323'], ['Column324'], ['Column325'], ['Column326'], ['Column327'], ['Column328'], ['Column329'], ['Column330'], ['Column331'], ['Column332'], ['Column333'], ['Column334'], ['Column335'], ['Column336'], ['Column337'], ['Column338'], ['Column339'], ['Column340'], ['Column341'], ['Column342'], ['Column343'], ['Column344'], ['Column345'], ['Column346'], ['Column347'], ['Column348'], ['Column349'], ['Column350'], ['Column351'], ['Column352'], ['Column353'], ['Column354'], ['Column355'], ['Column356'], ['Column357'], ['Column358'], ['Column359'], ['Column360'], ['Column361'], ['Column362'], ['Column363'], ['Column364'], ['Column365'], ['Column366'], ['Column367'], ['Column368'], ['Column369'], ['Column370'], ['Column371'], ['Column372'], ['Column373'], ['Column374'], ['Column375'], ['Column376'], ['Column377'], ['Column378'], ['Column379'], ['Column380'], ['Column381'], ['Column382'], ['Column383'], ['Column384'], ['Column385'], ['Column386'], ['Column387'], ['Column388'], ['Column389'], ['Column390'], ['Column391'], ['Column392'], ['Column393'], ['Column394'], ['Column395'], ['Column396'], ['Column397'], ['Column398'], ['Column399'], ['Column400'], ['Column401'], ['Column402'], ['Column403'], ['Column404'], ['Column405'], ['Column406'], ['Column407'], ['Column408'], ['Column409'], ['Column410'], ['Column411'], ['Column412'], ['Column413'], ['Column414'], ['Column415'], ['Column416'], ['Column417'], ['Column418'], ['Column419'], ['Column420'], ['Column421'], ['Column422'], ['Column423'], ['Column424'], ['Column425'], ['Column426'], ['Column427'], ['Column428'], ['Column429'], ['Column430'], ['Column431'], ['Column432'], ['Column433'], ['Column434'], ['Column435'], ['Column436'], ['Column437'], ['Column438'], ['Column439'], ['Column440'], ['Column441'], ['Column442'], ['Column443'], ['Column444'], ['Column445'], ['Column446'], ['Column447'], ['Column448'], ['Column449'], ['Column450'], ['Column451'], ['Column452'], ['Column453'], ['Column454'], ['Column455'], ['Column456'], ['Column457'], ['Column458'], ['Column459'], ['Column460'], ['Column461'], ['Column462'], ['Column463'], ['Column464'], ['Column465'], ['Column466'], ['Column467'], ['Column468'], ['Column469'], ['Column470'], ['Column471'], ['Column472'], ['Column473'], ['Column474'], ['Column475'], ['Column476'], ['Column477'], ['Column478'], ['Column479'], ['Column480'], ['Column481'], ['Column482'], ['Column483'], ['Column484'], ['Column485'], ['Column486'], ['Column487'], ['Column488'], ['Column489'], ['Column490'], ['Column491'], ['Column492'], ['Column493'], ['Column494'], ['Column495'], ['Column496'], ['Column497'], ['Column498'], ['Column499'], ['Column500'], ['Column501'], ['Column502'], ['Column503'], ['Column504'], ['Column505'], ['Column506'], ['Column507'], ['Column508'], ['Column509'], ['Column510'], ['Column511'], ['Column512'], ['Column513'], ['Column514'], ['Column515'], ['Column516'], ['Column517'], ['Column518'], ['Column519'], ['Column520'], ['Column521'], ['Column522'], ['Column523'], ['Column524'], ['Column525'], ['Column526'], ['Column527'], ['Column528'], ['Column529'], ['Column530'], ['Column531'], ['Column532'], ['Column533'], ['Column534'], ['Column535'], ['Column536'], ['Column537'], ['Column538'], ['Column539'], ['Column540'], ['Column541'], ['Column542'], ['Column543'], ['Column544'], ['Column545'], ['Column546'], ['Column547'], ['Column548'], ['Column549'], ['Column550'], ['Column551'], ['Column552'], ['Column553'], ['Column554'], ['Column555'], ['Column556'], ['Column557'], ['Column558'], ['Column559'], ['Column560'], ['Column561'], ['Column562'], ['Column563'], ['Column564'], ['Column565'], ['Column566'], ['Column567'], ['Column568'], ['Column569'], ['Column570'], ['Column571'], ['Column572'], ['Column573'], ['Column574'], ['Column575'], ['Column576'], ['Column577'], ['Column578'], ['Column579'], ['Column580'], ['Column581'], ['Column582'], ['Column583'], ['Column584'], ['Column585'], ['Column586'], ['Column587'], ['Column588'], ['Column589'], ['Column590'], ['Column591'], ['Column592'], ['Column593'], ['Column594'], ['Column595'], ['Column596'], ['Column597'], ['Column598'], ['Column599'], ['Column600'], ['Column601'], ['Column602'], ['Column603'], ['Column604'], ['Column605'], ['Column606'], ['Column607'], ['Column608'], ['Column609'], ['Column610'], ['Column611'], ['Column612'], ['Column613'], ['Column614'], ['Column615'], ['Column616'], ['Column617'], ['Column618'], ['Column619'], ['Column620'], ['Column621'], ['Column622'], ['Column623'], ['Column624'], ['Column625'], ['Column626'], ['Column627'], ['Column628'], ['Column629'], ['Column630'], ['Column631'], ['Column632'], ['Column633'], ['Column634'], ['Column635'], ['Column636'], ['Column637'], ['Column638'], ['Column639'], ['Column640'], ['Column641'], ['Column642'], ['Column643'], ['Column644'], ['Column645'], ['Column646'], ['Column647'], ['Column648'], ['Column649'], ['Column650'], ['Column651'], ['Column652'], ['Column653'], ['Column654'], ['Column655'], ['Column656'], ['Column657'], ['Column658'], ['Column659'], ['Column660'], ['Column661'], ['Column662'], ['Column663'], ['Column664'], ['Column665'], ['Column666'], ['Column667'], ['Column668'], ['Column669'], ['Column670'], ['Column671'], ['Column672'], ['Column673'], ['Column674'], ['Column675'], ['Column676'], ['Column677'], ['Column678'], ['Column679'], ['Column680'], ['Column681'], ['Column682'], ['Column683'], ['Column684'], ['Column685'], ['Column686'], ['Column687'], ['Column688'], ['Column689'], ['Column690'], ['Column691'], ['Column692'], ['Column693'], ['Column694'], ['Column695'], ['Column696'], ['Column697'], ['Column698'], ['Column699'], ['Column700'], ['Column701'], ['Column702'], ['Column703'], ['Column704'], ['Column705'], ['Column706'], ['Column707'], ['Column708'], ['Column709'], ['Column710'], ['Column711'], ['Column712'], ['Column713'], ['Column714'], ['Column715'], ['Column716'], ['Column717'], ['Column718'], ['Column719'], ['Column720'], ['Column721'], ['Column722'], ['Column723'], ['Column724'], ['Column725'], ['Column726'], ['Column727'], ['Column728'], ['Column729'], ['Column730'], ['Column731'], ['Column732'], ['Column733'], ['Column734'], ['Column735'], ['Column736'], ['Column737'], ['Column738'], ['Column739'], ['Column740'], ['Column741'], ['Column742'], ['Column743'], ['Column744'], ['Column745'], ['Column746'], ['Column747'], ['Column748'], ['Column749'], ['Column750'], ['Column751'], ['Column752'], ['Column753'], ['Column754'], ['Column755'], ['Column756'], ['Column757'], ['Column758'], ['Column759'], ['Column760'], ['Column761'], ['Column762'], ['Column763'], ['Column764'], ['Column765'], ['Column766'], ['Column767'], ['Column768'], ['Column769'], ['Column770'], ['Column771'], ['Column772'], ['Column773'], ['Column774'], ['Column775'], ['Column776'], ['Column777'], ['Column778'], ['Column779'], ['Column780'], ['Column781'], ['Column782'], ['Column783'], ['Column784'], ['Column785'], ['Column786'], ['Column787'], ['Column788'], ['Column789'], ['Column790'], ['Column791'], ['Column792'], ['Column793'], ['Column794'], ['Column795'], ['Column796'], ['Column797'], ['Column798'], ['Column799'], ['Column800'], ['Column801'], ['Column802'], ['Column803'], ['Column804'], ['Column805'], ['Column806'], ['Column807'], ['Column808'], ['Column809'], ['Column810'], ['Column811'], ['Column812'], ['Column813'], ['Column814'], ['Column815'], ['Column816'], ['Column817'], ['Column818'], ['Column819'], ['Column820'], ['Column821'], ['Column822'], ['Column823'], ['Column824'], ['Column825'], ['Column826'], ['Column827'], ['Column828'], ['Column829'], ['Column830'], ['Column831'], ['Column832'], ['Column833'], ['Column834'], ['Column835'], ['Column836'], ['Column837'], ['Column838'], ['Column839'], ['Column840'], ['Column841'], ['Column842'], ['Column843'], ['Column844'], ['Column845'], ['Column846'], ['Column847'], ['Column848'], ['Column849'], ['Column850'], ['Column851'], ['Column852'], ['Column853'], ['Column854'], ['Column855'], ['Column856'], ['Column857'], ['Column858'], ['Column859'], ['Column860'], ['Column861'], ['Column862'], ['Column863'], ['Column864'], ['Column865'], ['Column866'], ['Column867'], ['Column868'], ['Column869'], ['Column870'], ['Column871'], ['Column872'], ['Column873'], ['Column874'], ['Column875'], ['Column876'], ['Column877'], ['Column878'], ['Column879'], ['Column880'], ['Column881'], ['Column882'], ['Column883'], ['Column884'], ['Column885'], ['Column886'], ['Column887'], ['Column888'], ['Column889'], ['Column890'], ['Column891'], ['Column892'], ['Column893'], ['Column894'], ['Column895'], ['Column896'], ['Column897'], ['Column898'], ['Column899'], ['Column900'], ['Column901'], ['Column902'], ['Column903'], ['Column904'], ['Column905'], ['Column906'], ['Column907'], ['Column908'], ['Column909'], ['Column910'], ['Column911'], ['Column912'], ['Column913'], ['Column914'], ['Column915'], ['Column916'], ['Column917'], ['Column918'], ['Column919'], ['Column920'], ['Column921']]\n",
    "    \n",
    "    mapper = get_mapper_ab1045(column_group_1)\n",
    "    return mapper"
   ]
  },
  {
   "cell_type": "code",
   "execution_count": 13,
   "metadata": {},
   "outputs": [],
   "source": [
    "def get_mapper_ab1045(column_names):\n",
    "    from sklearn.impute import SimpleImputer\n",
    "    from sklearn_pandas.dataframe_mapper import DataFrameMapper\n",
    "    from sklearn_pandas.features_generator import gen_features\n",
    "    \n",
    "    definition = gen_features(\n",
    "        columns=column_names,\n",
    "        classes=[\n",
    "            {\n",
    "                'class': SimpleImputer,\n",
    "                'add_indicator': False,\n",
    "                'copy': True,\n",
    "                'fill_value': None,\n",
    "                'missing_values': np.nan,\n",
    "                'strategy': 'mean',\n",
    "                'verbose': 0,\n",
    "            },\n",
    "        ]\n",
    "    )\n",
    "    mapper = DataFrameMapper(features=definition, input_df=True, sparse=True)\n",
    "    \n",
    "    return mapper"
   ]
  },
  {
   "cell_type": "code",
   "execution_count": 17,
   "metadata": {},
   "outputs": [
    {
     "ename": "OSError",
     "evalue": "[WinError 126] The specified module could not be found",
     "output_type": "error",
     "traceback": [
      "\u001b[1;31m---------------------------------------------------------------------------\u001b[0m",
      "\u001b[1;31mOSError\u001b[0m                                   Traceback (most recent call last)",
      "\u001b[1;32m<ipython-input-17-83ef448cd7c9>\u001b[0m in \u001b[0;36m<module>\u001b[1;34m\u001b[0m\n\u001b[0;32m     13\u001b[0m \u001b[1;32mimport\u001b[0m \u001b[0msys\u001b[0m\u001b[1;33m\u001b[0m\u001b[1;33m\u001b[0m\u001b[0m\n\u001b[0;32m     14\u001b[0m \u001b[0msys\u001b[0m\u001b[1;33m.\u001b[0m\u001b[0mpath\u001b[0m\u001b[1;33m.\u001b[0m\u001b[0mappend\u001b[0m\u001b[1;33m(\u001b[0m\u001b[1;34m'..'\u001b[0m\u001b[1;33m)\u001b[0m\u001b[1;33m\u001b[0m\u001b[1;33m\u001b[0m\u001b[0m\n\u001b[1;32m---> 15\u001b[1;33m \u001b[1;32mfrom\u001b[0m \u001b[0mutils\u001b[0m \u001b[1;32mimport\u001b[0m \u001b[0mpreprocess\u001b[0m\u001b[1;33m,\u001b[0m \u001b[0mmissing\u001b[0m\u001b[1;33m,\u001b[0m \u001b[0mevaluate\u001b[0m\u001b[1;33m\u001b[0m\u001b[1;33m\u001b[0m\u001b[0m\n\u001b[0m",
      "\u001b[1;32m~\\Documents\\sustain1\\forecast1\\utils\\preprocess.py\u001b[0m in \u001b[0;36m<module>\u001b[1;34m\u001b[0m\n\u001b[0;32m      1\u001b[0m \u001b[1;32mimport\u001b[0m \u001b[0mpandas\u001b[0m \u001b[1;32mas\u001b[0m \u001b[0mpd\u001b[0m\u001b[1;33m\u001b[0m\u001b[1;33m\u001b[0m\u001b[0m\n\u001b[0;32m      2\u001b[0m \u001b[1;32mimport\u001b[0m \u001b[0mnumpy\u001b[0m \u001b[1;32mas\u001b[0m \u001b[0mnp\u001b[0m\u001b[1;33m\u001b[0m\u001b[1;33m\u001b[0m\u001b[0m\n\u001b[1;32m----> 3\u001b[1;33m \u001b[1;32mfrom\u001b[0m \u001b[0msklearn\u001b[0m\u001b[1;33m.\u001b[0m\u001b[0mimpute\u001b[0m \u001b[1;32mimport\u001b[0m \u001b[0mSimpleImputer\u001b[0m\u001b[1;33m\u001b[0m\u001b[1;33m\u001b[0m\u001b[0m\n\u001b[0m\u001b[0;32m      4\u001b[0m \u001b[1;33m\u001b[0m\u001b[0m\n\u001b[0;32m      5\u001b[0m \u001b[1;32mdef\u001b[0m \u001b[0mimpute_data_interpolation\u001b[0m\u001b[1;33m(\u001b[0m\u001b[0mdata\u001b[0m\u001b[1;33m,\u001b[0m \u001b[0mupto_year\u001b[0m\u001b[1;33m,\u001b[0m \u001b[0mmethod\u001b[0m\u001b[1;33m)\u001b[0m\u001b[1;33m:\u001b[0m\u001b[1;33m\u001b[0m\u001b[1;33m\u001b[0m\u001b[0m\n",
      "\u001b[1;32m~\\AppData\\Roaming\\Python\\Python37\\site-packages\\sklearn\\__init__.py\u001b[0m in \u001b[0;36m<module>\u001b[1;34m\u001b[0m\n\u001b[0;32m     80\u001b[0m     \u001b[1;32mfrom\u001b[0m \u001b[1;33m.\u001b[0m \u001b[1;32mimport\u001b[0m \u001b[0m_distributor_init\u001b[0m  \u001b[1;31m# noqa: F401\u001b[0m\u001b[1;33m\u001b[0m\u001b[1;33m\u001b[0m\u001b[0m\n\u001b[0;32m     81\u001b[0m     \u001b[1;32mfrom\u001b[0m \u001b[1;33m.\u001b[0m \u001b[1;32mimport\u001b[0m \u001b[0m__check_build\u001b[0m  \u001b[1;31m# noqa: F401\u001b[0m\u001b[1;33m\u001b[0m\u001b[1;33m\u001b[0m\u001b[0m\n\u001b[1;32m---> 82\u001b[1;33m     \u001b[1;32mfrom\u001b[0m \u001b[1;33m.\u001b[0m\u001b[0mbase\u001b[0m \u001b[1;32mimport\u001b[0m \u001b[0mclone\u001b[0m\u001b[1;33m\u001b[0m\u001b[1;33m\u001b[0m\u001b[0m\n\u001b[0m\u001b[0;32m     83\u001b[0m     \u001b[1;32mfrom\u001b[0m \u001b[1;33m.\u001b[0m\u001b[0mutils\u001b[0m\u001b[1;33m.\u001b[0m\u001b[0m_show_versions\u001b[0m \u001b[1;32mimport\u001b[0m \u001b[0mshow_versions\u001b[0m\u001b[1;33m\u001b[0m\u001b[1;33m\u001b[0m\u001b[0m\n\u001b[0;32m     84\u001b[0m \u001b[1;33m\u001b[0m\u001b[0m\n",
      "\u001b[1;32m~\\AppData\\Roaming\\Python\\Python37\\site-packages\\sklearn\\base.py\u001b[0m in \u001b[0;36m<module>\u001b[1;34m\u001b[0m\n\u001b[0;32m     18\u001b[0m \u001b[1;33m\u001b[0m\u001b[0m\n\u001b[0;32m     19\u001b[0m \u001b[1;32mfrom\u001b[0m \u001b[1;33m.\u001b[0m \u001b[1;32mimport\u001b[0m \u001b[0m__version__\u001b[0m\u001b[1;33m\u001b[0m\u001b[1;33m\u001b[0m\u001b[0m\n\u001b[1;32m---> 20\u001b[1;33m \u001b[1;32mfrom\u001b[0m \u001b[1;33m.\u001b[0m\u001b[0mutils\u001b[0m \u001b[1;32mimport\u001b[0m \u001b[0m_IS_32BIT\u001b[0m\u001b[1;33m\u001b[0m\u001b[1;33m\u001b[0m\u001b[0m\n\u001b[0m\u001b[0;32m     21\u001b[0m \u001b[1;33m\u001b[0m\u001b[0m\n\u001b[0;32m     22\u001b[0m _DEFAULT_TAGS = {\n",
      "\u001b[1;32m~\\AppData\\Roaming\\Python\\Python37\\site-packages\\sklearn\\utils\\__init__.py\u001b[0m in \u001b[0;36m<module>\u001b[1;34m\u001b[0m\n\u001b[0;32m     18\u001b[0m \u001b[1;32mimport\u001b[0m \u001b[0mwarnings\u001b[0m\u001b[1;33m\u001b[0m\u001b[1;33m\u001b[0m\u001b[0m\n\u001b[0;32m     19\u001b[0m \u001b[1;32mimport\u001b[0m \u001b[0mnumpy\u001b[0m \u001b[1;32mas\u001b[0m \u001b[0mnp\u001b[0m\u001b[1;33m\u001b[0m\u001b[1;33m\u001b[0m\u001b[0m\n\u001b[1;32m---> 20\u001b[1;33m \u001b[1;32mfrom\u001b[0m \u001b[0mscipy\u001b[0m\u001b[1;33m.\u001b[0m\u001b[0msparse\u001b[0m \u001b[1;32mimport\u001b[0m \u001b[0missparse\u001b[0m\u001b[1;33m\u001b[0m\u001b[1;33m\u001b[0m\u001b[0m\n\u001b[0m\u001b[0;32m     21\u001b[0m \u001b[1;33m\u001b[0m\u001b[0m\n\u001b[0;32m     22\u001b[0m \u001b[1;32mfrom\u001b[0m \u001b[1;33m.\u001b[0m\u001b[0mmurmurhash\u001b[0m \u001b[1;32mimport\u001b[0m \u001b[0mmurmurhash3_32\u001b[0m\u001b[1;33m\u001b[0m\u001b[1;33m\u001b[0m\u001b[0m\n",
      "\u001b[1;32m~\\AppData\\Roaming\\Python\\Python37\\site-packages\\scipy\\__init__.py\u001b[0m in \u001b[0;36m<module>\u001b[1;34m\u001b[0m\n\u001b[0;32m    134\u001b[0m \u001b[1;33m\u001b[0m\u001b[0m\n\u001b[0;32m    135\u001b[0m     \u001b[1;31m# Allow distributors to run custom init code\u001b[0m\u001b[1;33m\u001b[0m\u001b[1;33m\u001b[0m\u001b[1;33m\u001b[0m\u001b[0m\n\u001b[1;32m--> 136\u001b[1;33m     \u001b[1;32mfrom\u001b[0m \u001b[1;33m.\u001b[0m \u001b[1;32mimport\u001b[0m \u001b[0m_distributor_init\u001b[0m\u001b[1;33m\u001b[0m\u001b[1;33m\u001b[0m\u001b[0m\n\u001b[0m\u001b[0;32m    137\u001b[0m \u001b[1;33m\u001b[0m\u001b[0m\n\u001b[0;32m    138\u001b[0m     \u001b[1;32mfrom\u001b[0m \u001b[0mscipy\u001b[0m\u001b[1;33m.\u001b[0m\u001b[0m_lib\u001b[0m \u001b[1;32mimport\u001b[0m \u001b[0m_pep440\u001b[0m\u001b[1;33m\u001b[0m\u001b[1;33m\u001b[0m\u001b[0m\n",
      "\u001b[1;32m~\\AppData\\Roaming\\Python\\Python37\\site-packages\\scipy\\_distributor_init.py\u001b[0m in \u001b[0;36m<module>\u001b[1;34m\u001b[0m\n\u001b[0;32m     59\u001b[0m             \u001b[0mos\u001b[0m\u001b[1;33m.\u001b[0m\u001b[0mchdir\u001b[0m\u001b[1;33m(\u001b[0m\u001b[0mlibs_path\u001b[0m\u001b[1;33m)\u001b[0m\u001b[1;33m\u001b[0m\u001b[1;33m\u001b[0m\u001b[0m\n\u001b[0;32m     60\u001b[0m             \u001b[1;32mfor\u001b[0m \u001b[0mfilename\u001b[0m \u001b[1;32min\u001b[0m \u001b[0mglob\u001b[0m\u001b[1;33m.\u001b[0m\u001b[0mglob\u001b[0m\u001b[1;33m(\u001b[0m\u001b[0mos\u001b[0m\u001b[1;33m.\u001b[0m\u001b[0mpath\u001b[0m\u001b[1;33m.\u001b[0m\u001b[0mjoin\u001b[0m\u001b[1;33m(\u001b[0m\u001b[0mlibs_path\u001b[0m\u001b[1;33m,\u001b[0m \u001b[1;34m'*dll'\u001b[0m\u001b[1;33m)\u001b[0m\u001b[1;33m)\u001b[0m\u001b[1;33m:\u001b[0m\u001b[1;33m\u001b[0m\u001b[1;33m\u001b[0m\u001b[0m\n\u001b[1;32m---> 61\u001b[1;33m                 \u001b[0mWinDLL\u001b[0m\u001b[1;33m(\u001b[0m\u001b[0mos\u001b[0m\u001b[1;33m.\u001b[0m\u001b[0mpath\u001b[0m\u001b[1;33m.\u001b[0m\u001b[0mabspath\u001b[0m\u001b[1;33m(\u001b[0m\u001b[0mfilename\u001b[0m\u001b[1;33m)\u001b[0m\u001b[1;33m)\u001b[0m\u001b[1;33m\u001b[0m\u001b[1;33m\u001b[0m\u001b[0m\n\u001b[0m\u001b[0;32m     62\u001b[0m         \u001b[1;32mfinally\u001b[0m\u001b[1;33m:\u001b[0m\u001b[1;33m\u001b[0m\u001b[1;33m\u001b[0m\u001b[0m\n\u001b[0;32m     63\u001b[0m             \u001b[0mos\u001b[0m\u001b[1;33m.\u001b[0m\u001b[0mchdir\u001b[0m\u001b[1;33m(\u001b[0m\u001b[0mowd\u001b[0m\u001b[1;33m)\u001b[0m\u001b[1;33m\u001b[0m\u001b[1;33m\u001b[0m\u001b[0m\n",
      "\u001b[1;32m~\\anaconda3\\envs\\my_new_env2\\lib\\ctypes\\__init__.py\u001b[0m in \u001b[0;36m__init__\u001b[1;34m(self, name, mode, handle, use_errno, use_last_error)\u001b[0m\n\u001b[0;32m    354\u001b[0m \u001b[1;33m\u001b[0m\u001b[0m\n\u001b[0;32m    355\u001b[0m         \u001b[1;32mif\u001b[0m \u001b[0mhandle\u001b[0m \u001b[1;32mis\u001b[0m \u001b[1;32mNone\u001b[0m\u001b[1;33m:\u001b[0m\u001b[1;33m\u001b[0m\u001b[1;33m\u001b[0m\u001b[0m\n\u001b[1;32m--> 356\u001b[1;33m             \u001b[0mself\u001b[0m\u001b[1;33m.\u001b[0m\u001b[0m_handle\u001b[0m \u001b[1;33m=\u001b[0m \u001b[0m_dlopen\u001b[0m\u001b[1;33m(\u001b[0m\u001b[0mself\u001b[0m\u001b[1;33m.\u001b[0m\u001b[0m_name\u001b[0m\u001b[1;33m,\u001b[0m \u001b[0mmode\u001b[0m\u001b[1;33m)\u001b[0m\u001b[1;33m\u001b[0m\u001b[1;33m\u001b[0m\u001b[0m\n\u001b[0m\u001b[0;32m    357\u001b[0m         \u001b[1;32melse\u001b[0m\u001b[1;33m:\u001b[0m\u001b[1;33m\u001b[0m\u001b[1;33m\u001b[0m\u001b[0m\n\u001b[0;32m    358\u001b[0m             \u001b[0mself\u001b[0m\u001b[1;33m.\u001b[0m\u001b[0m_handle\u001b[0m \u001b[1;33m=\u001b[0m \u001b[0mhandle\u001b[0m\u001b[1;33m\u001b[0m\u001b[1;33m\u001b[0m\u001b[0m\n",
      "\u001b[1;31mOSError\u001b[0m: [WinError 126] The specified module could not be found"
     ]
    }
   ],
   "source": [
    "\n",
    "# from xgboost_predictor\n",
    "import pandas as pd\n",
    "import numpy as np\n",
    "# from sklearn.model_selection import cross_validate\n",
    "# from sklearn.model_selection import GridSearchCV\n",
    "\n",
    "# from sklearn.metrics import mean_squared_error\n",
    "# from sklearn.metrics.scorer import make_scorer\n",
    "# import xgboost as xgb\n",
    "from matplotlib import pyplot as plt\n",
    "\n",
    "import sys\n",
    "sys.path.append('..')\n",
    "from utils import preprocess, missing, evaluate"
   ]
  },
  {
   "cell_type": "code",
   "execution_count": 41,
   "metadata": {},
   "outputs": [
    {
     "name": "stdout",
     "output_type": "stream",
     "text": [
      "307 indicators included\n"
     ]
    }
   ],
   "source": [
    "\n",
    "# from xgboost_predictor\n",
    "target = 'SI.POV.DDAY'\n",
    "predict_year=2010\n",
    "#percent of input Indicators to use (set to 100 for full set of input features)\n",
    "percent = 50\n",
    "\n",
    "#Load the data from disk\n",
    "input_dir = '.\\\\..\\\\data\\\\'\n",
    "data_input = \"cleaned_data.pkl\"\n",
    "data = pd.read_pickle(input_dir + data_input)\n",
    "\n",
    "#Possible subset of data choosen to reduce calulation time\n",
    "#For percetages less than 100% we try to choose a subset that represents the spread of variables\n",
    "\n",
    "if percent == 100:\n",
    "    pass\n",
    "else: \n",
    "    num_indicators_original = data.shape[1]\n",
    "    step = int(100/percent)\n",
    "    data_new = data.iloc[:,::step].copy()\n",
    "    #Add the target column if not already included\n",
    "    if target not in data_new.columns:\n",
    "        data_new[target] = data[target]\n",
    "    data = data_new\n",
    "    \n",
    "print(data.shape[1], \"indicators included\")"
   ]
  },
  {
   "cell_type": "code",
   "execution_count": 18,
   "metadata": {},
   "outputs": [
    {
     "ename": "AttributeError",
     "evalue": "Can't get attribute 'FrozenNDArray' on <module 'pandas.core.indexes.frozen' from 'C:\\\\Users\\\\jgren\\\\AppData\\\\Roaming\\\\Python\\\\Python37\\\\site-packages\\\\pandas\\\\core\\\\indexes\\\\frozen.py'>",
     "output_type": "error",
     "traceback": [
      "\u001b[1;31m---------------------------------------------------------------------------\u001b[0m",
      "\u001b[1;31mAttributeError\u001b[0m                            Traceback (most recent call last)",
      "\u001b[1;32m<ipython-input-18-d94084481db8>\u001b[0m in \u001b[0;36m<module>\u001b[1;34m\u001b[0m\n\u001b[0;32m     11\u001b[0m \u001b[1;33m\u001b[0m\u001b[0m\n\u001b[0;32m     12\u001b[0m \u001b[1;32mwith\u001b[0m \u001b[0mopen\u001b[0m\u001b[1;33m(\u001b[0m\u001b[0minput_dir2\u001b[0m \u001b[1;33m+\u001b[0m \u001b[0mdata_input2\u001b[0m\u001b[1;33m,\u001b[0m \u001b[1;34m\"rb\"\u001b[0m\u001b[1;33m)\u001b[0m \u001b[1;32mas\u001b[0m \u001b[0mf2\u001b[0m\u001b[1;33m:\u001b[0m\u001b[1;33m\u001b[0m\u001b[1;33m\u001b[0m\u001b[0m\n\u001b[1;32m---> 13\u001b[1;33m     \u001b[0mobject\u001b[0m \u001b[1;33m=\u001b[0m \u001b[0mpkl\u001b[0m\u001b[1;33m.\u001b[0m\u001b[0mload\u001b[0m\u001b[1;33m(\u001b[0m\u001b[0mf2\u001b[0m\u001b[1;33m)\u001b[0m\u001b[1;33m\u001b[0m\u001b[1;33m\u001b[0m\u001b[0m\n\u001b[0m\u001b[0;32m     14\u001b[0m \u001b[1;33m\u001b[0m\u001b[0m\n\u001b[0;32m     15\u001b[0m \u001b[0mdf2\u001b[0m \u001b[1;33m=\u001b[0m \u001b[0mpd\u001b[0m\u001b[1;33m.\u001b[0m\u001b[0mDataFrame\u001b[0m\u001b[1;33m(\u001b[0m\u001b[0mobject\u001b[0m\u001b[1;33m)\u001b[0m\u001b[1;33m\u001b[0m\u001b[1;33m\u001b[0m\u001b[0m\n",
      "\u001b[1;31mAttributeError\u001b[0m: Can't get attribute 'FrozenNDArray' on <module 'pandas.core.indexes.frozen' from 'C:\\\\Users\\\\jgren\\\\AppData\\\\Roaming\\\\Python\\\\Python37\\\\site-packages\\\\pandas\\\\core\\\\indexes\\\\frozen.py'>"
     ]
    }
   ],
   "source": [
    "\n",
    "# added by jgrenadier to save intermediate data to csv files\n",
    "\n",
    "# save pk. data back to a csv (for use in Azure)\n",
    "\n",
    "import pickle as pkl\n",
    "# import pandas as pd\n",
    "\n",
    "input_dir2 = '.\\\\..\\\\data\\\\'\n",
    "data_input2 = \"cleaned_data.pkl\"\n",
    "\n",
    "with open(input_dir2 + data_input2, \"rb\") as f2:\n",
    "    object = pkl.load(f2)\n",
    "    \n",
    "df2 = pd.DataFrame(object)\n",
    "df2.to_csv(input_dir2 + r'cleaned_data2.csv')\n",
    "\n"
   ]
  },
  {
   "cell_type": "code",
   "execution_count": 19,
   "metadata": {},
   "outputs": [
    {
     "ename": "NameError",
     "evalue": "name 'preprocess' is not defined",
     "output_type": "error",
     "traceback": [
      "\u001b[1;31m---------------------------------------------------------------------------\u001b[0m",
      "\u001b[1;31mNameError\u001b[0m                                 Traceback (most recent call last)",
      "\u001b[1;32m<timed exec>\u001b[0m in \u001b[0;36m<module>\u001b[1;34m\u001b[0m\n",
      "\u001b[1;31mNameError\u001b[0m: name 'preprocess' is not defined"
     ]
    },
    {
     "ename": "NameError",
     "evalue": "name 'data_regressors' is not defined",
     "output_type": "error",
     "traceback": [
      "\u001b[1;31m---------------------------------------------------------------------------\u001b[0m",
      "\u001b[1;31mNameError\u001b[0m                                 Traceback (most recent call last)",
      "\u001b[1;32m<ipython-input-19-4aac2e6c56ca>\u001b[0m in \u001b[0;36m<module>\u001b[1;34m\u001b[0m\n\u001b[0;32m      7\u001b[0m \u001b[1;33m\u001b[0m\u001b[0m\n\u001b[0;32m      8\u001b[0m \u001b[0midx\u001b[0m \u001b[1;33m=\u001b[0m \u001b[0mpd\u001b[0m\u001b[1;33m.\u001b[0m\u001b[0mIndexSlice\u001b[0m\u001b[1;33m\u001b[0m\u001b[1;33m\u001b[0m\u001b[0m\n\u001b[1;32m----> 9\u001b[1;33m \u001b[0mdata_train_regressors\u001b[0m \u001b[1;33m=\u001b[0m \u001b[0mdata_regressors\u001b[0m\u001b[1;33m.\u001b[0m\u001b[0mloc\u001b[0m\u001b[1;33m[\u001b[0m\u001b[0midx\u001b[0m\u001b[1;33m[\u001b[0m\u001b[1;33m:\u001b[0m\u001b[1;33m,\u001b[0m\u001b[1;36m2\u001b[0m\u001b[1;33m:\u001b[0m\u001b[1;36m10\u001b[0m\u001b[1;33m]\u001b[0m\u001b[1;33m,\u001b[0m\u001b[1;33m:\u001b[0m\u001b[1;33m]\u001b[0m\u001b[1;33m\u001b[0m\u001b[1;33m\u001b[0m\u001b[0m\n\u001b[0m\u001b[0;32m     10\u001b[0m \u001b[0mdata_train_targets\u001b[0m \u001b[1;33m=\u001b[0m \u001b[0mdata_targets\u001b[0m\u001b[1;33m.\u001b[0m\u001b[0mloc\u001b[0m\u001b[1;33m[\u001b[0m\u001b[0midx\u001b[0m\u001b[1;33m[\u001b[0m\u001b[1;33m:\u001b[0m\u001b[1;33m,\u001b[0m\u001b[1;36m2\u001b[0m\u001b[1;33m:\u001b[0m\u001b[1;36m10\u001b[0m\u001b[1;33m]\u001b[0m\u001b[1;33m,\u001b[0m\u001b[1;33m:\u001b[0m\u001b[1;33m]\u001b[0m\u001b[1;33m\u001b[0m\u001b[1;33m\u001b[0m\u001b[0m\n\u001b[0;32m     11\u001b[0m \u001b[0mdata_test_regressors\u001b[0m \u001b[1;33m=\u001b[0m \u001b[0mdata_regressors\u001b[0m\u001b[1;33m.\u001b[0m\u001b[0mloc\u001b[0m\u001b[1;33m[\u001b[0m\u001b[0midx\u001b[0m\u001b[1;33m[\u001b[0m\u001b[1;33m:\u001b[0m\u001b[1;33m,\u001b[0m\u001b[1;36m1\u001b[0m\u001b[1;33m]\u001b[0m\u001b[1;33m,\u001b[0m\u001b[1;33m:\u001b[0m\u001b[1;33m]\u001b[0m\u001b[1;33m\u001b[0m\u001b[1;33m\u001b[0m\u001b[0m\n",
      "\u001b[1;31mNameError\u001b[0m: name 'data_regressors' is not defined"
     ]
    }
   ],
   "source": [
    "\n",
    "# from xgboost_predictor\n",
    "\n",
    "%time data_regressors, data_targets = \\\n",
    "        preprocess.window_data(data, lag=3,num_windows=10, step=1, predict_year=2010, \\\n",
    "                         target=target, impute_type='interpolation')\n",
    "\n",
    "#Break up into training and testing data.\n",
    "\n",
    "idx = pd.IndexSlice\n",
    "data_train_regressors = data_regressors.loc[idx[:,2:10],:]\n",
    "data_train_targets = data_targets.loc[idx[:,2:10],:]\n",
    "data_test_regressors = data_regressors.loc[idx[:,1],:]\n",
    "data_test_targets= data_targets.loc[idx[:,1],:]\n",
    "\n",
    "#For Training, only consider windows that don't have a missing target as they offer nothing to training\n",
    "#Therefore, remove those observations from both the training regressors and targets datasets.\n",
    "data_train_regressors_subset = data_train_regressors[~np.isnan(list(data_train_targets.values.flatten()))]\n",
    "data_train_targets_subset = data_train_targets[~np.isnan(list(data_train_targets.values.flatten()))]\n",
    "\n",
    "#For testing, also remove windows with no target variable as it is impossible to measure preformance.\n",
    "data_test_regressors_subset = data_test_regressors[~np.isnan(list(data_test_targets.values.flatten()))]\n",
    "data_test_targets_subset = data_test_targets[~np.isnan(list(data_test_targets.values.flatten()))]"
   ]
  },
  {
   "cell_type": "code",
   "execution_count": null,
   "metadata": {},
   "outputs": [],
   "source": [
    "\n",
    "# from xgboost_predictor\n",
    "\n",
    "print(data_train_regressors)"
   ]
  },
  {
   "cell_type": "code",
   "execution_count": 44,
   "metadata": {},
   "outputs": [],
   "source": [
    "\n",
    "# from xgboost_predictor\n",
    "\n",
    "X_train = data_train_regressors_subset.values\n",
    "y_train = data_train_targets_subset.values.ravel()\n",
    "X_test = data_test_regressors_subset.values\n",
    "y_test = data_test_targets_subset\n"
   ]
  },
  {
   "cell_type": "code",
   "execution_count": 24,
   "metadata": {},
   "outputs": [
    {
     "ename": "ModuleNotFoundError",
     "evalue": "No module named 'azureml.automl'",
     "output_type": "error",
     "traceback": [
      "\u001b[1;31m---------------------------------------------------------------------------\u001b[0m",
      "\u001b[1;31mModuleNotFoundError\u001b[0m                       Traceback (most recent call last)",
      "\u001b[1;32m<ipython-input-24-abdf82f58e7c>\u001b[0m in \u001b[0;36m<module>\u001b[1;34m\u001b[0m\n\u001b[0;32m     11\u001b[0m \u001b[1;31m# print(\"RMSE of XGBoost out-of-the-box is:\", np.sqrt(mse))\u001b[0m\u001b[1;33m\u001b[0m\u001b[1;33m\u001b[0m\u001b[1;33m\u001b[0m\u001b[0m\n\u001b[0;32m     12\u001b[0m \u001b[1;33m\u001b[0m\u001b[0m\n\u001b[1;32m---> 13\u001b[1;33m \u001b[0mmodel_pipeline\u001b[0m \u001b[1;33m=\u001b[0m \u001b[0mbuild_model_pipeline\u001b[0m\u001b[1;33m(\u001b[0m\u001b[1;33m)\u001b[0m\u001b[1;33m\u001b[0m\u001b[1;33m\u001b[0m\u001b[0m\n\u001b[0m\u001b[0;32m     14\u001b[0m \u001b[1;31m# model = model_pipeline.fit(X, y)\u001b[0m\u001b[1;33m\u001b[0m\u001b[1;33m\u001b[0m\u001b[1;33m\u001b[0m\u001b[0m\n\u001b[0;32m     15\u001b[0m \u001b[0mmodel\u001b[0m \u001b[1;33m=\u001b[0m \u001b[0mmodel_pipeline\u001b[0m\u001b[1;33m.\u001b[0m\u001b[0mfit\u001b[0m\u001b[1;33m(\u001b[0m\u001b[0mX_train\u001b[0m\u001b[1;33m,\u001b[0m \u001b[0my_train\u001b[0m\u001b[1;33m)\u001b[0m\u001b[1;33m\u001b[0m\u001b[1;33m\u001b[0m\u001b[0m\n",
      "\u001b[1;32m<ipython-input-7-594416daba0e>\u001b[0m in \u001b[0;36mbuild_model_pipeline\u001b[1;34m()\u001b[0m\n\u001b[0;32m      8\u001b[0m         steps=[\n\u001b[0;32m      9\u001b[0m             \u001b[1;33m(\u001b[0m\u001b[1;34m'featurization'\u001b[0m\u001b[1;33m,\u001b[0m \u001b[0mgenerate_data_transformation_config\u001b[0m\u001b[1;33m(\u001b[0m\u001b[1;33m)\u001b[0m\u001b[1;33m)\u001b[0m\u001b[1;33m,\u001b[0m\u001b[1;33m\u001b[0m\u001b[1;33m\u001b[0m\u001b[0m\n\u001b[1;32m---> 10\u001b[1;33m             \u001b[1;33m(\u001b[0m\u001b[1;34m'ensemble'\u001b[0m\u001b[1;33m,\u001b[0m \u001b[0mgenerate_algorithm_config\u001b[0m\u001b[1;33m(\u001b[0m\u001b[1;33m)\u001b[0m\u001b[1;33m)\u001b[0m\u001b[1;33m,\u001b[0m\u001b[1;33m\u001b[0m\u001b[1;33m\u001b[0m\u001b[0m\n\u001b[0m\u001b[0;32m     11\u001b[0m         ]\n\u001b[0;32m     12\u001b[0m     )\n",
      "\u001b[1;32m<ipython-input-6-87412f7bc7d2>\u001b[0m in \u001b[0;36mgenerate_algorithm_config\u001b[1;34m()\u001b[0m\n\u001b[0;32m      2\u001b[0m \u001b[1;31m# from Microsoft ModelBuilder script.py\u001b[0m\u001b[1;33m\u001b[0m\u001b[1;33m\u001b[0m\u001b[1;33m\u001b[0m\u001b[0m\n\u001b[0;32m      3\u001b[0m \u001b[1;32mdef\u001b[0m \u001b[0mgenerate_algorithm_config\u001b[0m\u001b[1;33m(\u001b[0m\u001b[1;33m)\u001b[0m\u001b[1;33m:\u001b[0m\u001b[1;33m\u001b[0m\u001b[1;33m\u001b[0m\u001b[0m\n\u001b[1;32m----> 4\u001b[1;33m     \u001b[1;32mfrom\u001b[0m \u001b[0mazureml\u001b[0m\u001b[1;33m.\u001b[0m\u001b[0mautoml\u001b[0m\u001b[1;33m.\u001b[0m\u001b[0mruntime\u001b[0m\u001b[1;33m.\u001b[0m\u001b[0mshared\u001b[0m\u001b[1;33m.\u001b[0m\u001b[0mmodel_wrappers\u001b[0m \u001b[1;32mimport\u001b[0m \u001b[0mPreFittedSoftVotingRegressor\u001b[0m\u001b[1;33m\u001b[0m\u001b[1;33m\u001b[0m\u001b[0m\n\u001b[0m\u001b[0;32m      5\u001b[0m     \u001b[1;32mfrom\u001b[0m \u001b[0msklearn\u001b[0m\u001b[1;33m.\u001b[0m\u001b[0mpipeline\u001b[0m \u001b[1;32mimport\u001b[0m \u001b[0mPipeline\u001b[0m\u001b[1;33m\u001b[0m\u001b[1;33m\u001b[0m\u001b[0m\n\u001b[0;32m      6\u001b[0m \u001b[1;33m\u001b[0m\u001b[0m\n",
      "\u001b[1;31mModuleNotFoundError\u001b[0m: No module named 'azureml.automl'"
     ]
    }
   ],
   "source": [
    "\n",
    "# comments from xgboost_predictor\n",
    "# jagNote: will be replaced by using best model pipeline found by Microsoft Model Builder\n",
    "\n",
    "# XGB = xgb.XGBRegressor(random_state=42 ,objective='reg:squarederror', subsample=0.9)\n",
    "# XGB.fit( X_train,y_train)\n",
    "#Make predictions\n",
    "# predictions = XGB.predict(X_test) \n",
    "\n",
    "# mse= mean_squared_error(y_test, predictions)\n",
    "# print(\"RMSE of XGBoost out-of-the-box is:\", np.sqrt(mse))\n",
    "\n",
    "model_pipeline = build_model_pipeline()\n",
    "# model = model_pipeline.fit(X, y)\n",
    "model = model_pipeline.fit(X_train, y_train)\n",
    "predictions = model.predict(X_test) \n",
    "mse= mean_squared_error(y_test, predictions)\n",
    "\n",
    "print(\"RMSE of modelbuilder model is:\", np.sqrt(mse))\n"
   ]
  },
  {
   "cell_type": "code",
   "execution_count": null,
   "metadata": {},
   "outputs": [],
   "source": [
    "\n",
    "# added by jgrenadier to save intermediate data to csv files\n",
    "\n",
    "print(type(data_train_regressors_subset))\n",
    "print(data_train_regressors_subset.shape)\n",
    "print(data_train_targets_subset.shape)\n",
    "print(data_test_regressors_subset.shape)\n",
    "print(data_test_targets_subset.shape)\n",
    "\n",
    "# \n",
    "# combine the dataframes vertically\n",
    "xxx = pd.concat([data_train_regressors_subset,data_test_regressors_subset])\n",
    "print(xxx.shape)\n",
    "\n",
    "yyy = pd.concat([data_train_targets_subset,data_test_targets_subset])\n",
    "print(yyy.shape)\n",
    "\n",
    "# combine horizontally (to add target back to a combined dataframe)\n",
    "xxxyyy = pd.concat([xxx, yyy.set_index(xxx.index)], axis=1)\n",
    "\n",
    "# write out to a csv file\n",
    "\n",
    "input_dir5 = '.\\\\..\\\\data\\\\'\n",
    "    \n",
    "xxxyyy.to_csv(input_dir5 + r'combined_data5.csv')\n"
   ]
  },
  {
   "cell_type": "code",
   "execution_count": null,
   "metadata": {},
   "outputs": [],
   "source": [
    "\n",
    "# added by jgrenadier to save intermediate data to csv files\n",
    "\n",
    "print(type(X_train))\n",
    "print(type(y_train))\n",
    "print(type(X_test))\n",
    "print(type(y_test))\n",
    "\n",
    "# print(X_train.size)\n",
    "print(X_train.shape)\n",
    "print(y_train.shape)\n",
    "print(X_test.shape)\n",
    "print(y_test.shape)\n",
    "\n",
    "#\n",
    "# combine train and test arrrays\n",
    "#\n",
    "X_combined = np.vstack((X_train, X_test))\n",
    "print(X_combined.shape)\n",
    "y_train3 = y_train.reshape((455,1))\n",
    "y_combined = np.vstack((y_train3, y_test))\n",
    "print(y_combined.shape)\n",
    "\n",
    "xy_combined = np.concatenate((X_combined, y_combined),axis=1)\n",
    "\n",
    "\n",
    "input_dir3 = '.\\\\..\\\\data\\\\'\n",
    "\n",
    "#\n",
    "# write numpy array back to csv\n",
    "\n",
    "\n",
    "np.savetxt(input_dir3 + r'combined_data3.csv', xy_combined, delimiter=\",\")\n"
   ]
  },
  {
   "cell_type": "code",
   "execution_count": null,
   "metadata": {},
   "outputs": [],
   "source": [
    "\n",
    "# from xgboost_predictor\n",
    "# jagNote: will be replaced by using best model pipeline found by Microsoft Model Builder\n",
    "\n",
    "XGB = xgb.XGBRegressor(random_state=42 ,objective='reg:squarederror', subsample=0.9)\n",
    "XGB.fit( X_train,y_train)\n",
    "#Make predictions\n",
    "predictions = XGB.predict(X_test) \n",
    "\n",
    "mse= mean_squared_error(y_test, predictions)\n",
    "print(\"RMSE of XGBoost out-of-the-box is:\", np.sqrt(mse))"
   ]
  },
  {
   "cell_type": "code",
   "execution_count": null,
   "metadata": {},
   "outputs": [],
   "source": [
    "# from xgboost_predictor\n",
    "# jagNote: will be replaced by using best model pipeline found by Microsoft Model Builder\n",
    "\n",
    "cv_folds = 5\n",
    "\n",
    "scorer = make_scorer(mean_squared_error ,greater_is_better=False)"
   ]
  },
  {
   "cell_type": "code",
   "execution_count": null,
   "metadata": {},
   "outputs": [],
   "source": [
    "\n",
    "# from xgboost_predictor\n",
    "# jagNote: will be replaced by using best model pipeline found by Microsoft Model Builder\n",
    "\n",
    "model = xgb.XGBRegressor(random_state=42,\n",
    "                         objective='reg:squarederror',\n",
    "                         max_depth=5, \n",
    "                         min_child_weight = 1, \n",
    "                         gamma = 0, \n",
    "                         subsample=0.9, \n",
    "                         colsample_bytree = 0.8, \n",
    "                         scale_pos_weight = 1)\n",
    "\n",
    "param = model.get_xgb_params()\n",
    "data_matrix = xgb.DMatrix(X_train, label=y_train)\n",
    "cvresult = xgb.cv(param, data_matrix, num_boost_round=model.get_params()['n_estimators'], nfold=cv_folds,\n",
    "            metrics='rmse', early_stopping_rounds=50)\n",
    "#Set the optimised number of estimators\n",
    "model.set_params(n_estimators=cvresult.shape[0])\n",
    "print(\"Optimal number of estimators:\", cvresult.shape[0])\n",
    "\n"
   ]
  },
  {
   "cell_type": "code",
   "execution_count": null,
   "metadata": {},
   "outputs": [],
   "source": [
    "\n",
    "# from xgboost_predictor\n",
    "# jagNote: will be replaced by using best model pipeline found by Microsoft Model Builder\n",
    "\n",
    "model.fit( X_train,y_train)\n",
    "#Make predictions\n",
    "predictions = model.predict(X_test) \n",
    "\n",
    "mse= mean_squared_error(y_test, predictions)\n",
    "print(\"RMSE of xgboost after tuning (step 1) is:\", np.sqrt(mse))\n",
    "\n"
   ]
  },
  {
   "cell_type": "code",
   "execution_count": null,
   "metadata": {},
   "outputs": [],
   "source": [
    "\n",
    "# from xgboost_predictor\n",
    "# jagNote: will be replaced by using best model pipeline found by Microsoft Model Builder\n",
    "\n",
    "\n",
    "params = {\n",
    " 'max_depth':range(3,10,2),\n",
    " 'min_child_weight':range(1,6,2)\n",
    "}\n",
    "\n",
    "grid_model = GridSearchCV(model, param_grid = params, scoring=scorer,\n",
    "                        n_jobs=4,iid=False, cv=5)\n",
    "grid_model.fit(X_train,y_train)\n",
    "\n",
    "#Score the best model using the test data\n",
    "model = grid_model.best_estimator_\n",
    "model.fit( X_train,y_train)\n",
    "#Make predictions\n",
    "predictions = model.predict(X_test) \n",
    "\n",
    "mse= mean_squared_error(y_test, predictions)\n",
    "print(\"RMSE of xgboost after tuning (step 2) is:\", np.sqrt(mse))\n",
    "\n"
   ]
  },
  {
   "cell_type": "code",
   "execution_count": null,
   "metadata": {},
   "outputs": [],
   "source": [
    "\n",
    "# from xgboost_predictor\n",
    "# jagNote: will be replaced by using best model pipeline found by Microsoft Model Builder\n",
    "\n",
    "grid_model.best_params_\n",
    "\n"
   ]
  },
  {
   "cell_type": "code",
   "execution_count": null,
   "metadata": {},
   "outputs": [],
   "source": [
    "\n",
    "# from xgboost_predictor\n",
    "# jagNote: will be replaced by using best model pipeline found by Microsoft Model Builder\n",
    "\n",
    "params = {\n",
    " 'gamma':[i/10.0 for i in range(0,5)]\n",
    "}\n",
    "\n",
    "\n",
    "\n",
    "grid_model = GridSearchCV(model, param_grid = params, scoring=scorer,\n",
    "                        n_jobs=4,iid=False, cv=5)\n",
    "grid_model.fit(X_train,y_train)\n",
    "\n",
    "#Score the best model using the test data\n",
    "model = grid_model.best_estimator_\n",
    "model.fit( X_train,y_train)\n",
    "#Make predictions\n",
    "predictions = model.predict(X_test) \n",
    "\n",
    "mse= mean_squared_error(y_test, predictions)\n",
    "print(\"RMSE of xgboost after tuning (step 3) is:\", np.sqrt(mse))\n",
    "\n"
   ]
  },
  {
   "cell_type": "code",
   "execution_count": null,
   "metadata": {},
   "outputs": [],
   "source": [
    "\n",
    "# from xgboost_predictor\n",
    "# jagNote: will be replaced by using best model pipeline found by Microsoft Model Builder\n",
    "\n",
    "grid_model.best_params_"
   ]
  },
  {
   "cell_type": "code",
   "execution_count": null,
   "metadata": {},
   "outputs": [],
   "source": [
    "\n",
    "# from xgboost_predictor\n",
    "# jagNote: will be replaced by using best model pipeline found by Microsoft Model Builder\n",
    "\n",
    "\n",
    "params = {\n",
    " 'reg_alpha':[1e-5, 1e-2, 0.1, 1]\n",
    "}\n",
    "\n",
    "grid_model = GridSearchCV(model, param_grid = params, scoring=scorer,\n",
    "                        n_jobs=4,iid=False, cv=5 ,return_train_score=True)\n",
    "grid_model.fit(X_train,y_train)\n",
    "\n",
    "#Score the best model using the test data\n",
    "model = grid_model.best_estimator_\n",
    "model.fit( X_train,y_train)\n",
    "#Make predictions\n",
    "predictions = model.predict(X_test) \n",
    "\n",
    "mse= mean_squared_error(y_test, predictions)\n",
    "print(\"RMSE of xgboost after tuning (step 4) is:\", np.sqrt(mse))\n"
   ]
  },
  {
   "cell_type": "code",
   "execution_count": null,
   "metadata": {},
   "outputs": [],
   "source": [
    "\n",
    "# from xgboost_predictor\n",
    "# jagNote: will be replaced by using best model pipeline found by Microsoft Model Builder\n",
    "\n",
    "\n",
    "grid_model.best_params_\n",
    "\n"
   ]
  },
  {
   "cell_type": "code",
   "execution_count": null,
   "metadata": {},
   "outputs": [],
   "source": [
    "\n",
    "# from xgboost_predictor\n",
    "# jagNote: will be replaced by using best model pipeline found by Microsoft Model Builder\n",
    "\n",
    "\n",
    "\n",
    "params = {\n",
    " 'reg_lambda':[1e-5, 1e-2, 0.1, 1]\n",
    "}\n",
    "\n",
    "grid_model = GridSearchCV(model, param_grid = params, scoring=scorer,\n",
    "                        n_jobs=4,iid=False, cv=5 ,return_train_score=True)\n",
    "grid_model.fit(X_train,y_train)\n",
    "\n",
    "#Score the best model using the test data\n",
    "model = grid_model.best_estimator_\n",
    "model.fit( X_train,y_train)\n",
    "#Make predictions\n",
    "predictions = model.predict(X_test) \n",
    "\n",
    "mse= mean_squared_error(y_test, predictions)\n",
    "print(\"RMSE of xgboost after tuning (step 5) is:\", np.sqrt(mse))\n",
    "\n"
   ]
  },
  {
   "cell_type": "code",
   "execution_count": null,
   "metadata": {},
   "outputs": [],
   "source": [
    "\n",
    "# from xgboost_predictor\n",
    "# jagNote: will be replaced by using best model pipeline found by Microsoft Model Builder\n",
    "\n",
    "\n",
    "%time data_regressors, data_targets = \\\n",
    "        preprocess.window_data(data, lag=3,num_windows=10, step=1, predict_year=2010, \\\n",
    "                         target=target)\n",
    "\n",
    "#Break up into training and testing data.\n",
    "\n",
    "idx = pd.IndexSlice\n",
    "data_train_regressors = data_regressors.loc[idx[:,2:10],:]\n",
    "data_train_targets = data_targets.loc[idx[:,2:10],:]\n",
    "data_test_regressors = data_regressors.loc[idx[:,1],:]\n",
    "data_test_targets= data_targets.loc[idx[:,1],:]\n",
    "\n",
    "#For Training, only consider windows that don't have a missing target as they offer nothing to training\n",
    "#Therefore, remove those observations from both the training regressors and targets datasets.\n",
    "data_train_regressors_subset = data_train_regressors[~np.isnan(list(data_train_targets.values.flatten()))]\n",
    "data_train_targets_subset = data_train_targets[~np.isnan(list(data_train_targets.values.flatten()))]\n",
    "\n",
    "#For testing, also remove windows with no target variable as it is impossible to measure preformance.\n",
    "data_test_regressors_subset = data_test_regressors[~np.isnan(list(data_test_targets.values.flatten()))]\n",
    "data_test_targets_subset = data_test_targets[~np.isnan(list(data_test_targets.values.flatten()))]\n",
    "\n",
    "X_train_miss = data_train_regressors_subset.values\n",
    "y_train_miss = data_train_targets_subset.values.ravel()\n",
    "X_test_miss = data_test_regressors_subset.values\n",
    "y_test_miss = data_test_targets_subset"
   ]
  },
  {
   "cell_type": "code",
   "execution_count": null,
   "metadata": {},
   "outputs": [],
   "source": [
    "\n",
    "# from xgboost_predictor\n",
    "# jagNote: will be replaced by using best model pipeline found by Microsoft Model Builder\n",
    "\n",
    "\n",
    "XGB = xgb.XGBRegressor(n_estimators=200,  objective='reg:squarederror',max_depth=7, subsample=0.87, reg_lambda=0.2)\n",
    "XGB.fit( X_train_miss,y_train_miss)\n",
    "#Make predictions\n",
    "predictions = XGB.predict(X_test_miss) \n",
    "\n",
    "mse= mean_squared_error(y_test_miss, predictions)\n",
    "print(\"RMSE of XGBoost out-of-the-box is:\", np.sqrt(mse))\n",
    "\n"
   ]
  }
 ],
 "metadata": {
  "kernelspec": {
   "display_name": "Python 3 (ipykernel)",
   "language": "python",
   "name": "python3"
  },
  "language_info": {
   "codemirror_mode": {
    "name": "ipython",
    "version": 3
   },
   "file_extension": ".py",
   "mimetype": "text/x-python",
   "name": "python",
   "nbconvert_exporter": "python",
   "pygments_lexer": "ipython3",
   "version": "3.7.11"
  }
 },
 "nbformat": 4,
 "nbformat_minor": 2
}
