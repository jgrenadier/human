{
 "cells": [
  {
   "cell_type": "markdown",
   "metadata": {},
   "source": [
    "### data_collection.ipynb\n",
    "\n",
    "The purpose of this file is to obtain data from the World Bank API, combine this data together into a single pandas dataframe and write to disk as a pickle file"
   ]
  },
  {
   "cell_type": "code",
   "execution_count": 34,
   "metadata": {},
   "outputs": [],
   "source": [
    "import pandas as pd\n",
    "import json\n",
    "from pandas_datareader import wb"
   ]
  },
  {
   "cell_type": "code",
   "execution_count": 35,
   "metadata": {},
   "outputs": [],
   "source": [
    "data_dir = '.\\\\..\\\\..\\\\data\\\\'\n",
    "#name of output pickle file\n",
    "world_bank_file_out = \"world_bank_api_data.pkl\""
   ]
  },
  {
   "cell_type": "code",
   "execution_count": 36,
   "metadata": {},
   "outputs": [],
   "source": [
    "#List of World Bank Indictor codes to be used to obtain data from the World bank API\n",
    "codes = ['SI.POV.DDAY',\n",
    "'SI.POV.GINI',\n",
    "'EN.POP.SLUM.UR.ZS',\n",
    "'SI.SPR.PC40',\n",
    "'SE.PRM.UNER',\n",
    "'SE.XPD.TOTL.GD.ZS',\n",
    "'SL.TLF.TOTL.IN',\n",
    "'NY.GDP.MKTP.KD.ZG',\n",
    "'SP.URB.TOTL.IN.ZS']\n"
   ]
  },
  {
   "cell_type": "code",
   "execution_count": 37,
   "metadata": {},
   "outputs": [
    {
     "name": "stdout",
     "output_type": "stream",
     "text": [
      "SI.POV.DDAY\n",
      "SI.POV.GINI\n",
      "EN.POP.SLUM.UR.ZS\n",
      "SI.SPR.PC40\n",
      "SE.PRM.UNER\n",
      "SE.XPD.TOTL.GD.ZS\n",
      "SL.TLF.TOTL.IN\n",
      "NY.GDP.MKTP.KD.ZG\n",
      "SP.URB.TOTL.IN.ZS\n"
     ]
    }
   ],
   "source": [
    "#Obtain data through the World Bank API using the pandas datareader library\n",
    "data = dict()\n",
    "for code in codes:\n",
    "    print(code)\n",
    "    data[code] = wb.download(indicator=code, country=['all'],start=1972, end=2018)"
   ]
  },
  {
   "cell_type": "code",
   "execution_count": 41,
   "metadata": {},
   "outputs": [
    {
     "data": {
      "text/html": [
       "<div>\n",
       "<style scoped>\n",
       "    .dataframe tbody tr th:only-of-type {\n",
       "        vertical-align: middle;\n",
       "    }\n",
       "\n",
       "    .dataframe tbody tr th {\n",
       "        vertical-align: top;\n",
       "    }\n",
       "\n",
       "    .dataframe thead th {\n",
       "        text-align: right;\n",
       "    }\n",
       "</style>\n",
       "<table border=\"1\" class=\"dataframe\">\n",
       "  <thead>\n",
       "    <tr style=\"text-align: right;\">\n",
       "      <th></th>\n",
       "      <th></th>\n",
       "      <th>SI.POV.DDAY</th>\n",
       "      <th>SI.POV.GINI</th>\n",
       "      <th>EN.POP.SLUM.UR.ZS</th>\n",
       "      <th>SI.SPR.PC40</th>\n",
       "      <th>SE.PRM.UNER</th>\n",
       "      <th>SE.XPD.TOTL.GD.ZS</th>\n",
       "      <th>SL.TLF.TOTL.IN</th>\n",
       "      <th>NY.GDP.MKTP.KD.ZG</th>\n",
       "      <th>SP.URB.TOTL.IN.ZS</th>\n",
       "    </tr>\n",
       "    <tr>\n",
       "      <th>Country</th>\n",
       "      <th>Year</th>\n",
       "      <th></th>\n",
       "      <th></th>\n",
       "      <th></th>\n",
       "      <th></th>\n",
       "      <th></th>\n",
       "      <th></th>\n",
       "      <th></th>\n",
       "      <th></th>\n",
       "      <th></th>\n",
       "    </tr>\n",
       "  </thead>\n",
       "  <tbody>\n",
       "    <tr>\n",
       "      <th rowspan=\"5\" valign=\"top\">Afghanistan</th>\n",
       "      <th>1972</th>\n",
       "      <td>NaN</td>\n",
       "      <td>NaN</td>\n",
       "      <td>NaN</td>\n",
       "      <td>NaN</td>\n",
       "      <td>NaN</td>\n",
       "      <td>1.11718</td>\n",
       "      <td>NaN</td>\n",
       "      <td>NaN</td>\n",
       "      <td>12.410</td>\n",
       "    </tr>\n",
       "    <tr>\n",
       "      <th>1973</th>\n",
       "      <td>NaN</td>\n",
       "      <td>NaN</td>\n",
       "      <td>NaN</td>\n",
       "      <td>NaN</td>\n",
       "      <td>NaN</td>\n",
       "      <td>1.42788</td>\n",
       "      <td>NaN</td>\n",
       "      <td>NaN</td>\n",
       "      <td>12.809</td>\n",
       "    </tr>\n",
       "    <tr>\n",
       "      <th>1974</th>\n",
       "      <td>NaN</td>\n",
       "      <td>NaN</td>\n",
       "      <td>NaN</td>\n",
       "      <td>NaN</td>\n",
       "      <td>1426190.0</td>\n",
       "      <td>NaN</td>\n",
       "      <td>NaN</td>\n",
       "      <td>NaN</td>\n",
       "      <td>13.219</td>\n",
       "    </tr>\n",
       "    <tr>\n",
       "      <th>1975</th>\n",
       "      <td>NaN</td>\n",
       "      <td>NaN</td>\n",
       "      <td>NaN</td>\n",
       "      <td>NaN</td>\n",
       "      <td>NaN</td>\n",
       "      <td>1.30332</td>\n",
       "      <td>NaN</td>\n",
       "      <td>NaN</td>\n",
       "      <td>13.641</td>\n",
       "    </tr>\n",
       "    <tr>\n",
       "      <th>1976</th>\n",
       "      <td>NaN</td>\n",
       "      <td>NaN</td>\n",
       "      <td>NaN</td>\n",
       "      <td>NaN</td>\n",
       "      <td>NaN</td>\n",
       "      <td>NaN</td>\n",
       "      <td>NaN</td>\n",
       "      <td>NaN</td>\n",
       "      <td>14.074</td>\n",
       "    </tr>\n",
       "  </tbody>\n",
       "</table>\n",
       "</div>"
      ],
      "text/plain": [
       "                  SI.POV.DDAY  SI.POV.GINI  EN.POP.SLUM.UR.ZS  SI.SPR.PC40  \\\n",
       "Country     Year                                                             \n",
       "Afghanistan 1972          NaN          NaN                NaN          NaN   \n",
       "            1973          NaN          NaN                NaN          NaN   \n",
       "            1974          NaN          NaN                NaN          NaN   \n",
       "            1975          NaN          NaN                NaN          NaN   \n",
       "            1976          NaN          NaN                NaN          NaN   \n",
       "\n",
       "                  SE.PRM.UNER  SE.XPD.TOTL.GD.ZS  SL.TLF.TOTL.IN  \\\n",
       "Country     Year                                                   \n",
       "Afghanistan 1972          NaN            1.11718             NaN   \n",
       "            1973          NaN            1.42788             NaN   \n",
       "            1974    1426190.0                NaN             NaN   \n",
       "            1975          NaN            1.30332             NaN   \n",
       "            1976          NaN                NaN             NaN   \n",
       "\n",
       "                  NY.GDP.MKTP.KD.ZG  SP.URB.TOTL.IN.ZS  \n",
       "Country     Year                                        \n",
       "Afghanistan 1972                NaN             12.410  \n",
       "            1973                NaN             12.809  \n",
       "            1974                NaN             13.219  \n",
       "            1975                NaN             13.641  \n",
       "            1976                NaN             14.074  "
      ]
     },
     "execution_count": 41,
     "metadata": {},
     "output_type": "execute_result"
    }
   ],
   "source": [
    "#Concatenate together into 1 file\n",
    "to_concatentate = [ data[code] for code in codes]\n",
    "world_bank_data = pd.concat(to_concatentate, axis=1)\n",
    "\n",
    "#According to pandas docs on multiIndex usage: For objects to be indexed and sliced effectively, they need to be sorted.\n",
    "world_bank_data = world_bank_data.sort_index()\n",
    "\n",
    "world_bank_data.index.levels[1].name = 'Year'\n",
    "world_bank_data.index.levels[0].name = 'Country'\n",
    "\n",
    "world_bank_data.head(5)"
   ]
  },
  {
   "cell_type": "markdown",
   "metadata": {},
   "source": [
    "#### Write file to a pickle file:"
   ]
  },
  {
   "cell_type": "code",
   "execution_count": 33,
   "metadata": {},
   "outputs": [],
   "source": [
    "#Write data to a pickle file\n",
    "world_bank_data.to_pickle(data_dir + world_bank_file_out)"
   ]
  }
 ],
 "metadata": {
  "kernelspec": {
   "display_name": "Python 3",
   "language": "python",
   "name": "python3"
  },
  "language_info": {
   "codemirror_mode": {
    "name": "ipython",
    "version": 3
   },
   "file_extension": ".py",
   "mimetype": "text/x-python",
   "name": "python",
   "nbconvert_exporter": "python",
   "pygments_lexer": "ipython3",
   "version": "3.7.2"
  }
 },
 "nbformat": 4,
 "nbformat_minor": 2
}
