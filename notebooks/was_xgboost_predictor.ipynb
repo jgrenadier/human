{
 "cells": [
  {
   "cell_type": "code",
   "execution_count": 1,
   "metadata": {},
   "outputs": [
    {
     "ename": "OSError",
     "evalue": "[WinError 126] The specified module could not be found",
     "output_type": "error",
     "traceback": [
      "\u001b[1;31m---------------------------------------------------------------------------\u001b[0m",
      "\u001b[1;31mOSError\u001b[0m                                   Traceback (most recent call last)",
      "\u001b[1;32m<ipython-input-1-f77745b47d05>\u001b[0m in \u001b[0;36m<module>\u001b[1;34m\u001b[0m\n\u001b[0;32m      1\u001b[0m \u001b[1;32mimport\u001b[0m \u001b[0mpandas\u001b[0m \u001b[1;32mas\u001b[0m \u001b[0mpd\u001b[0m\u001b[1;33m\u001b[0m\u001b[1;33m\u001b[0m\u001b[0m\n\u001b[0;32m      2\u001b[0m \u001b[1;32mimport\u001b[0m \u001b[0mnumpy\u001b[0m \u001b[1;32mas\u001b[0m \u001b[0mnp\u001b[0m\u001b[1;33m\u001b[0m\u001b[1;33m\u001b[0m\u001b[0m\n\u001b[1;32m----> 3\u001b[1;33m \u001b[1;32mfrom\u001b[0m \u001b[0msklearn\u001b[0m\u001b[1;33m.\u001b[0m\u001b[0mmodel_selection\u001b[0m \u001b[1;32mimport\u001b[0m \u001b[0mcross_validate\u001b[0m\u001b[1;33m\u001b[0m\u001b[1;33m\u001b[0m\u001b[0m\n\u001b[0m\u001b[0;32m      4\u001b[0m \u001b[1;32mfrom\u001b[0m \u001b[0msklearn\u001b[0m\u001b[1;33m.\u001b[0m\u001b[0mmodel_selection\u001b[0m \u001b[1;32mimport\u001b[0m \u001b[0mGridSearchCV\u001b[0m\u001b[1;33m\u001b[0m\u001b[1;33m\u001b[0m\u001b[0m\n\u001b[0;32m      5\u001b[0m \u001b[1;33m\u001b[0m\u001b[0m\n",
      "\u001b[1;32m~\\AppData\\Roaming\\Python\\Python37\\site-packages\\sklearn\\__init__.py\u001b[0m in \u001b[0;36m<module>\u001b[1;34m\u001b[0m\n\u001b[0;32m     80\u001b[0m     \u001b[1;32mfrom\u001b[0m \u001b[1;33m.\u001b[0m \u001b[1;32mimport\u001b[0m \u001b[0m_distributor_init\u001b[0m  \u001b[1;31m# noqa: F401\u001b[0m\u001b[1;33m\u001b[0m\u001b[1;33m\u001b[0m\u001b[0m\n\u001b[0;32m     81\u001b[0m     \u001b[1;32mfrom\u001b[0m \u001b[1;33m.\u001b[0m \u001b[1;32mimport\u001b[0m \u001b[0m__check_build\u001b[0m  \u001b[1;31m# noqa: F401\u001b[0m\u001b[1;33m\u001b[0m\u001b[1;33m\u001b[0m\u001b[0m\n\u001b[1;32m---> 82\u001b[1;33m     \u001b[1;32mfrom\u001b[0m \u001b[1;33m.\u001b[0m\u001b[0mbase\u001b[0m \u001b[1;32mimport\u001b[0m \u001b[0mclone\u001b[0m\u001b[1;33m\u001b[0m\u001b[1;33m\u001b[0m\u001b[0m\n\u001b[0m\u001b[0;32m     83\u001b[0m     \u001b[1;32mfrom\u001b[0m \u001b[1;33m.\u001b[0m\u001b[0mutils\u001b[0m\u001b[1;33m.\u001b[0m\u001b[0m_show_versions\u001b[0m \u001b[1;32mimport\u001b[0m \u001b[0mshow_versions\u001b[0m\u001b[1;33m\u001b[0m\u001b[1;33m\u001b[0m\u001b[0m\n\u001b[0;32m     84\u001b[0m \u001b[1;33m\u001b[0m\u001b[0m\n",
      "\u001b[1;32m~\\AppData\\Roaming\\Python\\Python37\\site-packages\\sklearn\\base.py\u001b[0m in \u001b[0;36m<module>\u001b[1;34m\u001b[0m\n\u001b[0;32m     18\u001b[0m \u001b[1;33m\u001b[0m\u001b[0m\n\u001b[0;32m     19\u001b[0m \u001b[1;32mfrom\u001b[0m \u001b[1;33m.\u001b[0m \u001b[1;32mimport\u001b[0m \u001b[0m__version__\u001b[0m\u001b[1;33m\u001b[0m\u001b[1;33m\u001b[0m\u001b[0m\n\u001b[1;32m---> 20\u001b[1;33m \u001b[1;32mfrom\u001b[0m \u001b[1;33m.\u001b[0m\u001b[0mutils\u001b[0m \u001b[1;32mimport\u001b[0m \u001b[0m_IS_32BIT\u001b[0m\u001b[1;33m\u001b[0m\u001b[1;33m\u001b[0m\u001b[0m\n\u001b[0m\u001b[0;32m     21\u001b[0m \u001b[1;33m\u001b[0m\u001b[0m\n\u001b[0;32m     22\u001b[0m _DEFAULT_TAGS = {\n",
      "\u001b[1;32m~\\AppData\\Roaming\\Python\\Python37\\site-packages\\sklearn\\utils\\__init__.py\u001b[0m in \u001b[0;36m<module>\u001b[1;34m\u001b[0m\n\u001b[0;32m     18\u001b[0m \u001b[1;32mimport\u001b[0m \u001b[0mwarnings\u001b[0m\u001b[1;33m\u001b[0m\u001b[1;33m\u001b[0m\u001b[0m\n\u001b[0;32m     19\u001b[0m \u001b[1;32mimport\u001b[0m \u001b[0mnumpy\u001b[0m \u001b[1;32mas\u001b[0m \u001b[0mnp\u001b[0m\u001b[1;33m\u001b[0m\u001b[1;33m\u001b[0m\u001b[0m\n\u001b[1;32m---> 20\u001b[1;33m \u001b[1;32mfrom\u001b[0m \u001b[0mscipy\u001b[0m\u001b[1;33m.\u001b[0m\u001b[0msparse\u001b[0m \u001b[1;32mimport\u001b[0m \u001b[0missparse\u001b[0m\u001b[1;33m\u001b[0m\u001b[1;33m\u001b[0m\u001b[0m\n\u001b[0m\u001b[0;32m     21\u001b[0m \u001b[1;33m\u001b[0m\u001b[0m\n\u001b[0;32m     22\u001b[0m \u001b[1;32mfrom\u001b[0m \u001b[1;33m.\u001b[0m\u001b[0mmurmurhash\u001b[0m \u001b[1;32mimport\u001b[0m \u001b[0mmurmurhash3_32\u001b[0m\u001b[1;33m\u001b[0m\u001b[1;33m\u001b[0m\u001b[0m\n",
      "\u001b[1;32m~\\AppData\\Roaming\\Python\\Python37\\site-packages\\scipy\\__init__.py\u001b[0m in \u001b[0;36m<module>\u001b[1;34m\u001b[0m\n\u001b[0;32m    134\u001b[0m \u001b[1;33m\u001b[0m\u001b[0m\n\u001b[0;32m    135\u001b[0m     \u001b[1;31m# Allow distributors to run custom init code\u001b[0m\u001b[1;33m\u001b[0m\u001b[1;33m\u001b[0m\u001b[1;33m\u001b[0m\u001b[0m\n\u001b[1;32m--> 136\u001b[1;33m     \u001b[1;32mfrom\u001b[0m \u001b[1;33m.\u001b[0m \u001b[1;32mimport\u001b[0m \u001b[0m_distributor_init\u001b[0m\u001b[1;33m\u001b[0m\u001b[1;33m\u001b[0m\u001b[0m\n\u001b[0m\u001b[0;32m    137\u001b[0m \u001b[1;33m\u001b[0m\u001b[0m\n\u001b[0;32m    138\u001b[0m     \u001b[1;32mfrom\u001b[0m \u001b[0mscipy\u001b[0m\u001b[1;33m.\u001b[0m\u001b[0m_lib\u001b[0m \u001b[1;32mimport\u001b[0m \u001b[0m_pep440\u001b[0m\u001b[1;33m\u001b[0m\u001b[1;33m\u001b[0m\u001b[0m\n",
      "\u001b[1;32m~\\AppData\\Roaming\\Python\\Python37\\site-packages\\scipy\\_distributor_init.py\u001b[0m in \u001b[0;36m<module>\u001b[1;34m\u001b[0m\n\u001b[0;32m     59\u001b[0m             \u001b[0mos\u001b[0m\u001b[1;33m.\u001b[0m\u001b[0mchdir\u001b[0m\u001b[1;33m(\u001b[0m\u001b[0mlibs_path\u001b[0m\u001b[1;33m)\u001b[0m\u001b[1;33m\u001b[0m\u001b[1;33m\u001b[0m\u001b[0m\n\u001b[0;32m     60\u001b[0m             \u001b[1;32mfor\u001b[0m \u001b[0mfilename\u001b[0m \u001b[1;32min\u001b[0m \u001b[0mglob\u001b[0m\u001b[1;33m.\u001b[0m\u001b[0mglob\u001b[0m\u001b[1;33m(\u001b[0m\u001b[0mos\u001b[0m\u001b[1;33m.\u001b[0m\u001b[0mpath\u001b[0m\u001b[1;33m.\u001b[0m\u001b[0mjoin\u001b[0m\u001b[1;33m(\u001b[0m\u001b[0mlibs_path\u001b[0m\u001b[1;33m,\u001b[0m \u001b[1;34m'*dll'\u001b[0m\u001b[1;33m)\u001b[0m\u001b[1;33m)\u001b[0m\u001b[1;33m:\u001b[0m\u001b[1;33m\u001b[0m\u001b[1;33m\u001b[0m\u001b[0m\n\u001b[1;32m---> 61\u001b[1;33m                 \u001b[0mWinDLL\u001b[0m\u001b[1;33m(\u001b[0m\u001b[0mos\u001b[0m\u001b[1;33m.\u001b[0m\u001b[0mpath\u001b[0m\u001b[1;33m.\u001b[0m\u001b[0mabspath\u001b[0m\u001b[1;33m(\u001b[0m\u001b[0mfilename\u001b[0m\u001b[1;33m)\u001b[0m\u001b[1;33m)\u001b[0m\u001b[1;33m\u001b[0m\u001b[1;33m\u001b[0m\u001b[0m\n\u001b[0m\u001b[0;32m     62\u001b[0m         \u001b[1;32mfinally\u001b[0m\u001b[1;33m:\u001b[0m\u001b[1;33m\u001b[0m\u001b[1;33m\u001b[0m\u001b[0m\n\u001b[0;32m     63\u001b[0m             \u001b[0mos\u001b[0m\u001b[1;33m.\u001b[0m\u001b[0mchdir\u001b[0m\u001b[1;33m(\u001b[0m\u001b[0mowd\u001b[0m\u001b[1;33m)\u001b[0m\u001b[1;33m\u001b[0m\u001b[1;33m\u001b[0m\u001b[0m\n",
      "\u001b[1;32m~\\anaconda3\\envs\\my_new_env3\\lib\\ctypes\\__init__.py\u001b[0m in \u001b[0;36m__init__\u001b[1;34m(self, name, mode, handle, use_errno, use_last_error)\u001b[0m\n\u001b[0;32m    354\u001b[0m \u001b[1;33m\u001b[0m\u001b[0m\n\u001b[0;32m    355\u001b[0m         \u001b[1;32mif\u001b[0m \u001b[0mhandle\u001b[0m \u001b[1;32mis\u001b[0m \u001b[1;32mNone\u001b[0m\u001b[1;33m:\u001b[0m\u001b[1;33m\u001b[0m\u001b[1;33m\u001b[0m\u001b[0m\n\u001b[1;32m--> 356\u001b[1;33m             \u001b[0mself\u001b[0m\u001b[1;33m.\u001b[0m\u001b[0m_handle\u001b[0m \u001b[1;33m=\u001b[0m \u001b[0m_dlopen\u001b[0m\u001b[1;33m(\u001b[0m\u001b[0mself\u001b[0m\u001b[1;33m.\u001b[0m\u001b[0m_name\u001b[0m\u001b[1;33m,\u001b[0m \u001b[0mmode\u001b[0m\u001b[1;33m)\u001b[0m\u001b[1;33m\u001b[0m\u001b[1;33m\u001b[0m\u001b[0m\n\u001b[0m\u001b[0;32m    357\u001b[0m         \u001b[1;32melse\u001b[0m\u001b[1;33m:\u001b[0m\u001b[1;33m\u001b[0m\u001b[1;33m\u001b[0m\u001b[0m\n\u001b[0;32m    358\u001b[0m             \u001b[0mself\u001b[0m\u001b[1;33m.\u001b[0m\u001b[0m_handle\u001b[0m \u001b[1;33m=\u001b[0m \u001b[0mhandle\u001b[0m\u001b[1;33m\u001b[0m\u001b[1;33m\u001b[0m\u001b[0m\n",
      "\u001b[1;31mOSError\u001b[0m: [WinError 126] The specified module could not be found"
     ]
    }
   ],
   "source": [
    "import pandas as pd\n",
    "import numpy as np\n",
    "from sklearn.model_selection import cross_validate\n",
    "from sklearn.model_selection import GridSearchCV\n",
    "\n",
    "from sklearn.metrics import mean_squared_error\n",
    "from sklearn.metrics.scorer import make_scorer\n",
    "import xgboost as xgb\n",
    "from matplotlib import pyplot as plt\n",
    "\n",
    "import sys\n",
    "sys.path.append('..')\n",
    "from utils import preprocess, missing, evaluate"
   ]
  },
  {
   "cell_type": "markdown",
   "metadata": {},
   "source": [
    "### Globals and load data"
   ]
  },
  {
   "cell_type": "code",
   "execution_count": 2,
   "metadata": {},
   "outputs": [
    {
     "name": "stdout",
     "output_type": "stream",
     "text": [
      "307 indicators included\n"
     ]
    }
   ],
   "source": [
    "target = 'SI.POV.DDAY'\n",
    "predict_year=2010\n",
    "#percent of input Indicators to use (set to 100 for full set of input features)\n",
    "percent = 50\n",
    "\n",
    "#Load the data from disk\n",
    "input_dir = '.\\\\..\\\\data\\\\'\n",
    "data_input = \"cleaned_data.pkl\"\n",
    "data = pd.read_pickle(input_dir + data_input)\n",
    "\n",
    "#Possible subset of data choosen to reduce calulation time\n",
    "#For percetages less than 100% we try to choose a subset that represents the spread of variables\n",
    "\n",
    "if percent == 100:\n",
    "    pass\n",
    "else: \n",
    "    num_indicators_original = data.shape[1]\n",
    "    step = int(100/percent)\n",
    "    data_new = data.iloc[:,::step].copy()\n",
    "    #Add the target column if not already included\n",
    "    if target not in data_new.columns:\n",
    "        data_new[target] = data[target]\n",
    "    data = data_new\n",
    "    \n",
    "print(data.shape[1], \"indicators included\")"
   ]
  },
  {
   "cell_type": "code",
   "execution_count": 3,
   "metadata": {},
   "outputs": [],
   "source": [
    "\n",
    "# jagNote\n",
    "# save pk. data back to a csv (for use in Azure)\n",
    "\n",
    "import pickle as pkl\n",
    "# import pandas as pd\n",
    "\n",
    "input_dir2 = '.\\\\..\\\\data\\\\'\n",
    "data_input2 = \"cleaned_data.pkl\"\n",
    "\n",
    "with open(input_dir2 + data_input2, \"rb\") as f2:\n",
    "    object = pkl.load(f2)\n",
    "    \n",
    "df2 = pd.DataFrame(object)\n",
    "df2.to_csv(input_dir2 + r'cleaned_data2.csv')\n",
    "\n",
    "\n",
    "\n"
   ]
  },
  {
   "cell_type": "markdown",
   "metadata": {},
   "source": [
    "### Window data and preprocess"
   ]
  },
  {
   "cell_type": "code",
   "execution_count": 4,
   "metadata": {},
   "outputs": [
    {
     "name": "stdout",
     "output_type": "stream",
     "text": [
      "Wall time: 2min 35s\n"
     ]
    }
   ],
   "source": [
    "%time data_regressors, data_targets = \\\n",
    "        preprocess.window_data(data, lag=3,num_windows=10, step=1, predict_year=2010, \\\n",
    "                         target=target, impute_type='interpolation')\n",
    "\n",
    "#Break up into training and testing data.\n",
    "\n",
    "idx = pd.IndexSlice\n",
    "data_train_regressors = data_regressors.loc[idx[:,2:10],:]\n",
    "data_train_targets = data_targets.loc[idx[:,2:10],:]\n",
    "data_test_regressors = data_regressors.loc[idx[:,1],:]\n",
    "data_test_targets= data_targets.loc[idx[:,1],:]\n",
    "\n",
    "#For Training, only consider windows that don't have a missing target as they offer nothing to training\n",
    "#Therefore, remove those observations from both the training regressors and targets datasets.\n",
    "data_train_regressors_subset = data_train_regressors[~np.isnan(list(data_train_targets.values.flatten()))]\n",
    "data_train_targets_subset = data_train_targets[~np.isnan(list(data_train_targets.values.flatten()))]\n",
    "\n",
    "#For testing, also remove windows with no target variable as it is impossible to measure preformance.\n",
    "data_test_regressors_subset = data_test_regressors[~np.isnan(list(data_test_targets.values.flatten()))]\n",
    "data_test_targets_subset = data_test_targets[~np.isnan(list(data_test_targets.values.flatten()))]"
   ]
  },
  {
   "cell_type": "code",
   "execution_count": 5,
   "metadata": {},
   "outputs": [
    {
     "name": "stdout",
     "output_type": "stream",
     "text": [
      "Indicator Code            NY.ADJ.NNTY.KD.ZG                      \\\n",
      "lag                                       1         2         3   \n",
      "country            window                                         \n",
      "Argentina          2                21.2166   12.3954   5.75809   \n",
      "                   3                7.48641   21.2166   12.3954   \n",
      "                   4               -1.00319   7.48641   21.2166   \n",
      "                   5                11.3624  -1.00319   7.48641   \n",
      "                   6               -11.4711   11.3624  -1.00319   \n",
      "                   7               -4.92054  -11.4711   11.3624   \n",
      "                   8              -0.985731  -4.92054  -11.4711   \n",
      "                   9               -5.67288 -0.985731  -4.92054   \n",
      "                   10                3.0834  -5.67288 -0.985731   \n",
      "Armenia            2                14.6338   16.8789   9.44762   \n",
      "                   3                14.8584   14.6338   16.8789   \n",
      "                   4                10.3311   14.8584   14.6338   \n",
      "                   5                 19.848   10.3311   14.8584   \n",
      "                   6                14.7858    19.848   10.3311   \n",
      "                   7                8.32673   14.7858    19.848   \n",
      "                   8              -0.875364   8.32673   14.7858   \n",
      "                   9                3.14235 -0.875364   8.32673   \n",
      "                   10                3.5576   3.14235 -0.875364   \n",
      "Australia          2                2.97083   2.97083   2.97083   \n",
      "                   3                 2.9772    2.9772    2.9772   \n",
      "                   4                3.16289   3.16289   3.16289   \n",
      "                   5                3.09958   3.09958   3.09958   \n",
      "                   6                2.99986   2.99986   2.99986   \n",
      "                   7                2.96713   2.96713   2.96713   \n",
      "                   8                3.08958   3.08958   3.08958   \n",
      "                   9                3.18296   3.18296   3.18296   \n",
      "                   10               2.97081   2.97081   2.97081   \n",
      "Austria            2                4.14063    3.4103     1.583   \n",
      "                   3                 1.8337   4.14063    3.4103   \n",
      "                   4                2.99642    1.8337   4.14063   \n",
      "...                                     ...       ...       ...   \n",
      "Uruguay            8               -2.72831  -3.18711  -6.07572   \n",
      "                   9               -2.39812  -2.72831  -3.18711   \n",
      "                   10               5.50189  -2.39812  -2.72831   \n",
      "Viet Nam           2                6.01702    7.2517   5.94166   \n",
      "                   3               -2.13135   6.01702    7.2517   \n",
      "                   4                4.60643  -2.13135   6.01702   \n",
      "                   5                3.21687   4.60643  -2.13135   \n",
      "                   6                5.85915   3.21687   4.60643   \n",
      "                   7                6.44683   5.85915   3.21687   \n",
      "                   8                10.1308   6.44683   5.85915   \n",
      "                   9                4.16446   10.1308   6.44683   \n",
      "                   10                6.9436   4.16446   10.1308   \n",
      "West Bank and Gaza 2                2.97083   2.97083   2.97083   \n",
      "                   3                 2.9772    2.9772    2.9772   \n",
      "                   4                3.16289   3.16289   3.16289   \n",
      "                   5                3.09958   3.09958   3.09958   \n",
      "                   6                2.99986   2.99986   2.99986   \n",
      "                   7                2.96713   2.96713   2.96713   \n",
      "                   8                3.08958   3.08958   3.08958   \n",
      "                   9                3.18296   3.18296   3.18296   \n",
      "                   10               2.97081   2.97081   2.97081   \n",
      "Zambia             2                2.97083   2.97083   2.97083   \n",
      "                   3                 2.9772    2.9772    2.9772   \n",
      "                   4                3.16289   3.16289   3.16289   \n",
      "                   5                3.09958   3.09958   3.09958   \n",
      "                   6                2.99986   2.99986   2.99986   \n",
      "                   7                2.96713   2.96713   2.96713   \n",
      "                   8                3.08958   3.08958   3.08958   \n",
      "                   9                3.18296   3.18296   3.18296   \n",
      "                   10               2.97081   2.97081   2.97081   \n",
      "\n",
      "Indicator Code            NY.ADJ.NNTY.CD                            \\\n",
      "lag                                    1            2            3   \n",
      "country            window                                            \n",
      "Argentina          2         1.91323e+11  2.42011e+11  3.03207e+11   \n",
      "                   3         1.46889e+11  1.91323e+11  2.42011e+11   \n",
      "                   4         1.22115e+11  1.46889e+11  1.91323e+11   \n",
      "                   5         1.02027e+11  1.22115e+11  1.46889e+11   \n",
      "                   6         7.47385e+10  1.02027e+11  1.22115e+11   \n",
      "                   7         2.23514e+11  7.47385e+10  1.02027e+11   \n",
      "                   8         2.37362e+11  2.23514e+11  7.47385e+10   \n",
      "                   9         2.39074e+11  2.37362e+11  2.23514e+11   \n",
      "                   10        2.56761e+11  2.39074e+11  2.37362e+11   \n",
      "Armenia            2         5.85448e+09  8.52217e+09  1.09652e+10   \n",
      "                   3         4.42041e+09  5.85448e+09  8.52217e+09   \n",
      "                   4         3.20475e+09  4.42041e+09  5.85448e+09   \n",
      "                   5         2.46838e+09  3.20475e+09  4.42041e+09   \n",
      "                   6         2.06261e+09  2.46838e+09  3.20475e+09   \n",
      "                   7         1.84731e+09  2.06261e+09  2.46838e+09   \n",
      "                   8         1.66327e+09  1.84731e+09  2.06261e+09   \n",
      "                   9          1.6145e+09  1.66327e+09  1.84731e+09   \n",
      "                   10         1.6674e+09   1.6145e+09  1.66327e+09   \n",
      "Australia          2         5.76388e+11  6.51073e+11  8.03336e+11   \n",
      "                   3          5.4069e+11  5.76388e+11  6.51073e+11   \n",
      "                   4         4.87895e+11   5.4069e+11  5.76388e+11   \n",
      "                   5         3.72722e+11  4.87895e+11   5.4069e+11   \n",
      "                   6         3.14245e+11  3.72722e+11  4.87895e+11   \n",
      "                   7         2.99958e+11  3.14245e+11  3.72722e+11   \n",
      "                   8         3.26717e+11  2.99958e+11  3.14245e+11   \n",
      "                   9         3.09144e+11  3.26717e+11  2.99958e+11   \n",
      "                   10        3.17387e+11  3.09144e+11  3.26717e+11   \n",
      "Austria            2         2.80951e+11  3.24597e+11  3.61917e+11   \n",
      "                   3         2.62113e+11  2.80951e+11  3.24597e+11   \n",
      "                   4         2.49783e+11  2.62113e+11  2.80951e+11   \n",
      "...                                  ...          ...          ...   \n",
      "Uruguay            8         2.08174e+10   1.9086e+10  1.25779e+10   \n",
      "                   9         2.17575e+10  2.08174e+10   1.9086e+10   \n",
      "                   10        2.28776e+10  2.17575e+10  2.08174e+10   \n",
      "Viet Nam           2          5.0561e+10  5.93543e+10  7.49497e+10   \n",
      "                   3          4.4854e+10   5.0561e+10  5.93543e+10   \n",
      "                   4         3.99894e+10   4.4854e+10   5.0561e+10   \n",
      "                   5          3.6337e+10  3.99894e+10   4.4854e+10   \n",
      "                   6         3.29205e+10   3.6337e+10  3.99894e+10   \n",
      "                   7         3.08812e+10  3.29205e+10   3.6337e+10   \n",
      "                   8         2.94046e+10  3.08812e+10  3.29205e+10   \n",
      "                   9         2.59006e+10  2.94046e+10  3.08812e+10   \n",
      "                   10        2.50495e+10  2.59006e+10  2.94046e+10   \n",
      "West Bank and Gaza 2         2.33147e+11  2.33147e+11  2.33147e+11   \n",
      "                   3         2.23388e+11  2.23388e+11  2.23388e+11   \n",
      "                   4          2.1418e+11   2.1418e+11   2.1418e+11   \n",
      "                   5         2.05703e+11  2.05703e+11  2.05703e+11   \n",
      "                   6         1.97975e+11  1.97975e+11  1.97975e+11   \n",
      "                   7         1.90695e+11  1.90695e+11  1.90695e+11   \n",
      "                   8         1.84459e+11  1.84459e+11  1.84459e+11   \n",
      "                   9         1.79186e+11  1.79186e+11  1.79186e+11   \n",
      "                   10        1.76307e+11  1.76307e+11  1.76307e+11   \n",
      "Zambia             2         8.71226e+09  9.21289e+09  1.27761e+10   \n",
      "                   3         6.15823e+09  8.71226e+09  9.21289e+09   \n",
      "                   4         4.72624e+09  6.15823e+09  8.71226e+09   \n",
      "                   5         4.00002e+09  4.72624e+09  6.15823e+09   \n",
      "                   6         3.39234e+09  4.00002e+09  4.72624e+09   \n",
      "                   7          3.3068e+09  3.39234e+09  4.00002e+09   \n",
      "                   8         2.89188e+09   3.3068e+09  3.39234e+09   \n",
      "                   9          2.7238e+09  2.89188e+09   3.3068e+09   \n",
      "                   10        2.77936e+09   2.7238e+09  2.89188e+09   \n",
      "\n",
      "Indicator Code            NY.ADJ.NNTY.PC.KD                    \\\n",
      "lag                                       1        2        3   \n",
      "country            window                                       \n",
      "Argentina          2                 9404.6  10465.3  10958.6   \n",
      "                   3                7837.69   9404.6  10465.3   \n",
      "                   4                7367.75  7837.69   9404.6   \n",
      "                   5                7521.38  7367.75  7837.69   \n",
      "                   6                6826.76  7521.38  7367.75   \n",
      "                   7                7795.35  6826.76  7521.38   \n",
      "                   8                 8288.8  7795.35  6826.76   \n",
      "                   9                8463.96   8288.8  7795.35   \n",
      "                   10               9073.45  8463.96   8288.8   \n",
      "Armenia            2                2633.68  3105.17  3427.76   \n",
      "                   3                2279.78  2633.68  3105.17   \n",
      "                   4                1971.99  2279.78  2633.68   \n",
      "                   5                1777.14  1971.99  2279.78   \n",
      "                   6                1474.99  1777.14  1971.99   \n",
      "                   7                1277.95  1474.99  1777.14   \n",
      "                   8                1172.45  1277.95  1474.99   \n",
      "                   9                1175.37  1172.45  1277.95   \n",
      "                   10               1132.35  1175.37  1172.45   \n",
      "Australia          2                10735.6  10735.6  10735.6   \n",
      "                   3                10610.5  10610.5  10610.5   \n",
      "                   4                10472.8  10472.8  10472.8   \n",
      "                   5                10213.8  10213.8  10213.8   \n",
      "                   6                10088.3  10088.3  10088.3   \n",
      "                   7                10110.6  10110.6  10110.6   \n",
      "                   8                10000.8  10000.8  10000.8   \n",
      "                   9                9889.83  9889.83  9889.83   \n",
      "                   10               9916.25  9916.25  9916.25   \n",
      "Austria            2                36007.9  37115.4  37585.1   \n",
      "                   3                34747.7  36007.9  37115.4   \n",
      "                   4                34355.3  34747.7  36007.9   \n",
      "...                                     ...      ...      ...   \n",
      "Uruguay            8                8894.66  8596.32  8072.63   \n",
      "                   9                9176.56  8894.66  8596.32   \n",
      "                   10               9450.46  9176.56  8894.66   \n",
      "Viet Nam           2                943.258  1002.16  1051.56   \n",
      "                   3                898.053  943.258  1002.16   \n",
      "                   4                926.115  898.053  943.258   \n",
      "                   5                893.521  926.115  898.053   \n",
      "                   6                 873.82  893.521  926.115   \n",
      "                   7                833.551   873.82  893.521   \n",
      "                   8                791.222  833.551   873.82   \n",
      "                   9                726.388  791.222  833.551   \n",
      "                   10               705.561  726.388  791.222   \n",
      "West Bank and Gaza 2                10735.6  10735.6  10735.6   \n",
      "                   3                10610.5  10610.5  10610.5   \n",
      "                   4                10472.8  10472.8  10472.8   \n",
      "                   5                10213.8  10213.8  10213.8   \n",
      "                   6                10088.3  10088.3  10088.3   \n",
      "                   7                10110.6  10110.6  10110.6   \n",
      "                   8                10000.8  10000.8  10000.8   \n",
      "                   9                9889.83  9889.83  9889.83   \n",
      "                   10               9916.25  9916.25  9916.25   \n",
      "Zambia             2                10735.6  10735.6  10735.6   \n",
      "                   3                10610.5  10610.5  10610.5   \n",
      "                   4                10472.8  10472.8  10472.8   \n",
      "                   5                10213.8  10213.8  10213.8   \n",
      "                   6                10088.3  10088.3  10088.3   \n",
      "                   7                10110.6  10110.6  10110.6   \n",
      "                   8                10000.8  10000.8  10000.8   \n",
      "                   9                9889.83  9889.83  9889.83   \n",
      "                   10               9916.25  9916.25  9916.25   \n",
      "\n",
      "Indicator Code            NY.ADJ.SVNX.GN.ZS  ... NY.GNS.ICTR.CD  \\\n",
      "lag                                       1  ...              3   \n",
      "country            window                    ...                  \n",
      "Argentina          2                8.96989  ...     7.6294e+10   \n",
      "                   3                0.18009  ...    6.38638e+10   \n",
      "                   4              -0.129564  ...    4.97445e+10   \n",
      "                   5                7.36629  ...    2.72441e+10   \n",
      "                   6                 4.6898  ...    2.26945e+10   \n",
      "                   7                4.21109  ...    2.77304e+10   \n",
      "                   8                4.19048  ...    2.08574e+10   \n",
      "                   9                4.11555  ...    3.81928e+10   \n",
      "                   10               7.73106  ...    4.08356e+10   \n",
      "Armenia            2                15.8525  ...    3.25428e+09   \n",
      "                   3                10.5025  ...    2.63307e+09   \n",
      "                   4                5.34459  ...    1.82243e+09   \n",
      "                   5               0.939485  ...    1.19117e+09   \n",
      "                   6                -6.2709  ...    7.05124e+08   \n",
      "                   7               -10.8584  ...    4.58725e+08   \n",
      "                   8               -17.4317  ...    2.43465e+08   \n",
      "                   9               -12.8385  ...    1.14651e+08   \n",
      "                   10              -14.5996  ...   -1.77205e+07   \n",
      "Australia          2                6.64378  ...    2.31672e+11   \n",
      "                   3                6.46457  ...     1.8289e+11   \n",
      "                   4                7.84036  ...    1.62451e+11   \n",
      "                   5                7.35792  ...    1.45975e+11   \n",
      "                   6                7.35288  ...    1.32298e+11   \n",
      "                   7                6.05453  ...    9.86254e+10   \n",
      "                   8                6.26968  ...    8.62127e+10   \n",
      "                   9                6.84842  ...    7.87656e+10   \n",
      "                   10               7.95674  ...    8.82163e+10   \n",
      "Austria            2                14.6429  ...    1.23482e+11   \n",
      "                   3                13.7878  ...    1.09567e+11   \n",
      "                   4                13.7878  ...    8.98295e+10   \n",
      "...                                     ...  ...            ...   \n",
      "Uruguay            8                4.34553  ...     2.0933e+09   \n",
      "                   9                4.92877  ...    2.39165e+09   \n",
      "                   10               7.27256  ...    2.50365e+09   \n",
      "Viet Nam           2                11.8348  ...    2.76578e+10   \n",
      "                   3                12.6154  ...    2.46489e+10   \n",
      "                   4                 21.295  ...    2.21222e+10   \n",
      "                   5                22.9482  ...    1.90622e+10   \n",
      "                   6                25.7857  ...    1.52031e+10   \n",
      "                   7                25.2106  ...    1.24564e+10   \n",
      "                   8                25.4222  ...    1.14055e+10   \n",
      "                   9                19.1803  ...    1.02311e+10   \n",
      "                   10                17.771  ...    9.74072e+09   \n",
      "West Bank and Gaza 2                8.00085  ...    1.96173e+09   \n",
      "                   3                7.94321  ...    9.56983e+08   \n",
      "                   4                 7.8491  ...    6.44329e+07   \n",
      "                   5                7.83713  ...   -5.04214e+07   \n",
      "                   6                7.52737  ...   -2.99505e+08   \n",
      "                   7                7.47839  ...    6.07434e+07   \n",
      "                   8                7.46297  ...    4.42324e+08   \n",
      "                   9                7.35707  ...    3.74373e+08   \n",
      "                   10               7.36955  ...    5.01636e+08   \n",
      "Zambia             2                8.00085  ...    7.84347e+10   \n",
      "                   3                7.94321  ...    7.67501e+10   \n",
      "                   4                 7.8491  ...    7.41767e+10   \n",
      "                   5                7.83713  ...    7.23746e+10   \n",
      "                   6                7.52737  ...    7.05091e+10   \n",
      "                   7                7.47839  ...    6.87827e+10   \n",
      "                   8                7.46297  ...    6.75092e+10   \n",
      "                   9                7.35707  ...    6.65057e+10   \n",
      "                   10               7.36955  ...     6.5465e+10   \n",
      "\n",
      "Indicator Code            NE.IMP.GNFS.KN                            \\\n",
      "lag                                    1            2            3   \n",
      "country            window                                            \n",
      "Argentina          2         1.05074e+11  1.25711e+11  1.42761e+11   \n",
      "                   3         9.46686e+10  1.05074e+11  1.25711e+11   \n",
      "                   4         8.17178e+10  9.46686e+10  1.05074e+11   \n",
      "                   5         5.83191e+10  8.17178e+10  9.46686e+10   \n",
      "                   6         4.23937e+10  5.83191e+10  8.17178e+10   \n",
      "                   7         8.48886e+10  4.23937e+10  5.83191e+10   \n",
      "                   8         9.86464e+10  8.48886e+10  4.23937e+10   \n",
      "                   9         9.88021e+10  9.86464e+10  8.48886e+10   \n",
      "                   10        1.11347e+11  9.88021e+10  9.86464e+10   \n",
      "Armenia            2         1.96567e+12   2.2211e+12  2.38276e+12   \n",
      "                   3         1.89442e+12  1.96567e+12   2.2211e+12   \n",
      "                   4         1.65949e+12  1.89442e+12  1.96567e+12   \n",
      "                   5         1.71557e+12  1.65949e+12  1.89442e+12   \n",
      "                   6         1.34651e+12  1.71557e+12  1.65949e+12   \n",
      "                   7         1.13871e+12  1.34651e+12  1.71557e+12   \n",
      "                   8         1.06553e+12  1.13871e+12  1.34651e+12   \n",
      "                   9         9.95603e+11  1.06553e+12  1.13871e+12   \n",
      "                   10        1.01283e+12  9.95603e+11  1.06553e+12   \n",
      "Australia          2         2.41118e+11  2.66107e+11  3.04655e+11   \n",
      "                   3         2.22308e+11  2.41118e+11  2.66107e+11   \n",
      "                   4         1.97608e+11  2.22308e+11  2.41118e+11   \n",
      "                   5         1.74106e+11  1.97608e+11  2.22308e+11   \n",
      "                   6         1.53807e+11  1.74106e+11  1.97608e+11   \n",
      "                   7          1.5176e+11  1.53807e+11  1.74106e+11   \n",
      "                   8         1.53253e+11   1.5176e+11  1.53807e+11   \n",
      "                   9         1.36775e+11  1.53253e+11   1.5176e+11   \n",
      "                   10        1.30122e+11  1.36775e+11  1.53253e+11   \n",
      "Austria            2         1.40545e+11  1.48464e+11  1.49881e+11   \n",
      "                   3         1.32771e+11  1.40545e+11  1.48464e+11   \n",
      "                   4         1.25903e+11  1.32771e+11  1.40545e+11   \n",
      "...                                  ...          ...          ...   \n",
      "Uruguay            8         1.97432e+11  1.87085e+11  1.48165e+11   \n",
      "                   9         1.96289e+11  1.97432e+11  1.87085e+11   \n",
      "                   10        2.06353e+11  1.96289e+11  1.97432e+11   \n",
      "Viet Nam           2         1.17578e+15  1.49243e+15  1.71647e+15   \n",
      "                   3         1.04991e+15  1.17578e+15  1.49243e+15   \n",
      "                   4         9.19553e+14  1.04991e+15  1.17578e+15   \n",
      "                   5         7.54108e+14  9.19553e+14  1.04991e+15   \n",
      "                   6         6.14471e+14  7.54108e+14  9.19553e+14   \n",
      "                   7         5.30696e+14  6.14471e+14  7.54108e+14   \n",
      "                   8          4.5576e+14  5.30696e+14  6.14471e+14   \n",
      "                   9         3.90827e+14   4.5576e+14  5.30696e+14   \n",
      "                   10        3.47231e+14  3.90827e+14   4.5576e+14   \n",
      "West Bank and Gaza 2         5.49211e+09  5.38426e+09  5.69642e+09   \n",
      "                   3         5.69642e+09  5.49211e+09  5.38426e+09   \n",
      "                   4         5.11152e+09  5.69642e+09  5.49211e+09   \n",
      "                   5         4.35198e+09  5.11152e+09  5.69642e+09   \n",
      "                   6         3.79348e+09  4.35198e+09  5.11152e+09   \n",
      "                   7          4.3642e+09  3.79348e+09  4.35198e+09   \n",
      "                   8         4.93378e+09   4.3642e+09  3.79348e+09   \n",
      "                   9          5.4592e+09  4.93378e+09   4.3642e+09   \n",
      "                   10        4.49845e+09   5.4592e+09  4.93378e+09   \n",
      "Zambia             2         1.27917e+10  1.99444e+10  2.40946e+10   \n",
      "                   3         1.29411e+10  1.27917e+10  1.99444e+10   \n",
      "                   4         1.22067e+10  1.29411e+10  1.27917e+10   \n",
      "                   5         9.36173e+09  1.22067e+10  1.29411e+10   \n",
      "                   6         7.67769e+09  9.36173e+09  1.22067e+10   \n",
      "                   7         6.44264e+09  7.67769e+09  9.36173e+09   \n",
      "                   8          4.4991e+09  6.44264e+09  7.67769e+09   \n",
      "                   9         3.19819e+09   4.4991e+09  6.44264e+09   \n",
      "                   10        2.10241e+09  3.19819e+09   4.4991e+09   \n",
      "\n",
      "Indicator Code            NY.TRF.NCTR.KN                            \\\n",
      "lag                                    1            2            3   \n",
      "country            window                                            \n",
      "Argentina          2         1.90331e+09  1.90331e+09  1.90331e+09   \n",
      "                   3          1.6385e+09  1.90331e+09  1.90331e+09   \n",
      "                   4         1.72584e+09   1.6385e+09  1.90331e+09   \n",
      "                   5         1.50469e+09  1.72584e+09   1.6385e+09   \n",
      "                   6         1.67965e+09  1.50469e+09  1.72584e+09   \n",
      "                   7         4.24495e+08  1.67965e+09  1.50469e+09   \n",
      "                   8         3.99036e+08  4.24495e+08  1.67965e+09   \n",
      "                   9          4.5331e+08  3.99036e+08  4.24495e+08   \n",
      "                   10        4.64068e+08   4.5331e+08  3.99036e+08   \n",
      "Armenia            2         1.80773e+11  1.93687e+11  1.94956e+11   \n",
      "                   3         1.56525e+11  1.80773e+11  1.93687e+11   \n",
      "                   4         1.53603e+11  1.56525e+11  1.80773e+11   \n",
      "                   5         9.04756e+10  1.53603e+11  1.56525e+11   \n",
      "                   6          7.3908e+10  9.04756e+10  1.53603e+11   \n",
      "                   7         7.31918e+10   7.3908e+10  9.04756e+10   \n",
      "                   8         7.20884e+10  7.31918e+10   7.3908e+10   \n",
      "                   9         7.18256e+10  7.20884e+10  7.31918e+10   \n",
      "                   10        6.89141e+10  7.18256e+10  7.20884e+10   \n",
      "Australia          2         1.62256e+11  1.62256e+11  1.62256e+11   \n",
      "                   3         1.54872e+11  1.54872e+11  1.54872e+11   \n",
      "                   4         1.46841e+11  1.46841e+11  1.46841e+11   \n",
      "                   5         1.39134e+11  1.39134e+11  1.39134e+11   \n",
      "                   6         1.32859e+11  1.32859e+11  1.32859e+11   \n",
      "                   7         1.28998e+11  1.28998e+11  1.28998e+11   \n",
      "                   8         1.24456e+11  1.24456e+11  1.24456e+11   \n",
      "                   9         1.20021e+11  1.20021e+11  1.20021e+11   \n",
      "                   10        1.16616e+11  1.16616e+11  1.16616e+11   \n",
      "Austria            2         -2.7342e+09  -3.1781e+09 -6.22332e+08   \n",
      "                   3         -2.3803e+09  -2.7342e+09  -3.1781e+09   \n",
      "                   4        -1.78473e+09  -2.3803e+09  -2.7342e+09   \n",
      "...                                  ...          ...          ...   \n",
      "Uruguay            8         1.24099e+09  1.18995e+09  2.06001e+09   \n",
      "                   9         1.84448e+09  1.24099e+09  1.18995e+09   \n",
      "                   10        1.50076e+09  1.84448e+09  1.24099e+09   \n",
      "Viet Nam           2         1.62256e+11  1.62256e+11  1.62256e+11   \n",
      "                   3         1.54872e+11  1.54872e+11  1.54872e+11   \n",
      "                   4         1.46841e+11  1.46841e+11  1.46841e+11   \n",
      "                   5         1.39134e+11  1.39134e+11  1.39134e+11   \n",
      "                   6         1.32859e+11  1.32859e+11  1.32859e+11   \n",
      "                   7         1.28998e+11  1.28998e+11  1.28998e+11   \n",
      "                   8         1.24456e+11  1.24456e+11  1.24456e+11   \n",
      "                   9         1.20021e+11  1.20021e+11  1.20021e+11   \n",
      "                   10        1.16616e+11  1.16616e+11  1.16616e+11   \n",
      "West Bank and Gaza 2          5.2744e+09  7.86325e+09  1.02614e+10   \n",
      "                   3         4.90263e+09   5.2744e+09  7.86325e+09   \n",
      "                   4         3.22874e+09  4.90263e+09   5.2744e+09   \n",
      "                   5         3.55845e+09  3.22874e+09  4.90263e+09   \n",
      "                   6         5.40123e+09  3.55845e+09  3.22874e+09   \n",
      "                   7         4.00413e+09  5.40123e+09  3.55845e+09   \n",
      "                   8         2.58672e+09  4.00413e+09  5.40123e+09   \n",
      "                   9          1.6146e+09  2.58672e+09  4.00413e+09   \n",
      "                   10        1.37294e+09   1.6146e+09  2.58672e+09   \n",
      "Zambia             2         3.22392e+08  5.07206e+08  4.42921e+08   \n",
      "                   3         2.11444e+08  3.22392e+08  5.07206e+08   \n",
      "                   4         1.54672e+08  2.11444e+08  3.22392e+08   \n",
      "                   5         1.54141e+08  1.54672e+08  2.11444e+08   \n",
      "                   6         9.76041e+07  1.54141e+08  1.54672e+08   \n",
      "                   7         1.41767e+07  9.76041e+07  1.54141e+08   \n",
      "                   8         1.71364e+07  1.41767e+07  9.76041e+07   \n",
      "                   9        -1.50117e+07  1.71364e+07  1.41767e+07   \n",
      "                   10       -2.35281e+07 -1.50117e+07  1.71364e+07   \n",
      "\n",
      "Indicator Code            NY.TTF.GNFS.KN                            \n",
      "lag                                    1            2            3  \n",
      "country            window                                           \n",
      "Argentina          2         1.13875e+09  6.71561e+09  2.14894e+10  \n",
      "                   3        -3.43117e+09  1.13875e+09  6.71561e+09  \n",
      "                   4                   0 -3.43117e+09  1.13875e+09  \n",
      "                   5        -4.22684e+09            0 -3.43117e+09  \n",
      "                   6        -1.09583e+10 -4.22684e+09            0  \n",
      "                   7        -2.24632e+09 -1.09583e+10 -4.22684e+09  \n",
      "                   8         -2.1735e+09 -2.24632e+09 -1.09583e+10  \n",
      "                   9        -8.78009e+09  -2.1735e+09 -2.24632e+09  \n",
      "                   10       -4.32515e+09 -8.78009e+09  -2.1735e+09  \n",
      "Armenia            2         1.32651e+11  8.93835e+10  1.62634e+10  \n",
      "                   3         1.43157e+11  1.32651e+11  8.93835e+10  \n",
      "                   4         1.26525e+11  1.43157e+11  1.32651e+11  \n",
      "                   5         1.15631e+11  1.26525e+11  1.43157e+11  \n",
      "                   6         9.24773e+10  1.15631e+11  1.26525e+11  \n",
      "                   7         6.61118e+10  9.24773e+10  1.15631e+11  \n",
      "                   8         5.09776e+10  6.61118e+10  9.24773e+10  \n",
      "                   9         6.08063e+10  5.09776e+10  6.61118e+10  \n",
      "                   10         5.1771e+10  6.08063e+10  5.09776e+10  \n",
      "Australia          2        -5.14459e+10 -3.71939e+10 -2.42374e+10  \n",
      "                   3        -7.05838e+10 -5.14459e+10 -3.71939e+10  \n",
      "                   4         -8.4386e+10 -7.05838e+10 -5.14459e+10  \n",
      "                   5        -9.49959e+10  -8.4386e+10 -7.05838e+10  \n",
      "                   6        -9.68146e+10 -9.49959e+10  -8.4386e+10  \n",
      "                   7        -9.95379e+10 -9.68146e+10 -9.49959e+10  \n",
      "                   8        -9.39261e+10 -9.95379e+10 -9.68146e+10  \n",
      "                   9         -9.0304e+10 -9.39261e+10 -9.95379e+10  \n",
      "                   10        -8.2483e+10  -9.0304e+10 -9.39261e+10  \n",
      "Austria            2         1.53252e+09  9.47628e+08 -1.07557e+09  \n",
      "                   3         2.98054e+09  1.53252e+09  9.47628e+08  \n",
      "                   4         3.86909e+09  2.98054e+09  1.53252e+09  \n",
      "...                                  ...          ...          ...  \n",
      "Uruguay            8          -4.807e+10 -4.05741e+10 -3.08379e+10  \n",
      "                   9        -3.49928e+10   -4.807e+10 -4.05741e+10  \n",
      "                   10       -2.77235e+10 -3.49928e+10   -4.807e+10  \n",
      "Viet Nam           2        -5.21998e+13  -7.5922e+13  -7.1785e+13  \n",
      "                   3        -6.32006e+13 -5.21998e+13  -7.5922e+13  \n",
      "                   4        -1.51522e+14 -6.32006e+13 -5.21998e+13  \n",
      "                   5        -8.55406e+13 -1.51522e+14 -6.32006e+13  \n",
      "                   6        -5.50757e+13 -8.55406e+13 -1.51522e+14  \n",
      "                   7        -2.81773e+13 -5.50757e+13 -8.55406e+13  \n",
      "                   8        -3.49211e+13 -2.81773e+13 -5.50757e+13  \n",
      "                   9        -1.20847e+13 -3.49211e+13 -2.81773e+13  \n",
      "                   10          -1.18e+13 -1.20847e+13 -3.49211e+13  \n",
      "West Bank and Gaza 2         3.24751e+07  7.50448e+07 -5.45663e+07  \n",
      "                   3         5.47448e+07  3.24751e+07  7.50448e+07  \n",
      "                   4         4.19442e+07  5.47448e+07  3.24751e+07  \n",
      "                   5         4.80745e+07  4.19442e+07  5.47448e+07  \n",
      "                   6         6.17871e+07  4.80745e+07  4.19442e+07  \n",
      "                   7         7.77738e+07  6.17871e+07  4.80745e+07  \n",
      "                   8         1.37423e+08  7.77738e+07  6.17871e+07  \n",
      "                   9         4.92914e+07  1.37423e+08  7.77738e+07  \n",
      "                   10        3.74061e+07  4.92914e+07  1.37423e+08  \n",
      "Zambia             2        -1.70691e+09   6.5888e+08  3.78911e+09  \n",
      "                   3        -3.95064e+09 -1.70691e+09   6.5888e+08  \n",
      "                   4        -8.16035e+08 -3.95064e+09 -1.70691e+09  \n",
      "                   5        -9.44155e+08 -8.16035e+08 -3.95064e+09  \n",
      "                   6         7.58625e+08 -9.44155e+08 -8.16035e+08  \n",
      "                   7         5.62662e+08  7.58625e+08 -9.44155e+08  \n",
      "                   8         3.09843e+07  5.62662e+08  7.58625e+08  \n",
      "                   9        -7.06806e+08  3.09843e+07  5.62662e+08  \n",
      "                   10        2.91529e+07 -7.06806e+08  3.09843e+07  \n",
      "\n",
      "[729 rows x 921 columns]\n"
     ]
    }
   ],
   "source": [
    "print(data_train_regressors)"
   ]
  },
  {
   "cell_type": "code",
   "execution_count": 6,
   "metadata": {},
   "outputs": [],
   "source": [
    "X_train = data_train_regressors_subset.values\n",
    "y_train = data_train_targets_subset.values.ravel()\n",
    "X_test = data_test_regressors_subset.values\n",
    "y_test = data_test_targets_subset"
   ]
  },
  {
   "cell_type": "code",
   "execution_count": 7,
   "metadata": {},
   "outputs": [
    {
     "name": "stdout",
     "output_type": "stream",
     "text": [
      "<class 'pandas.core.frame.DataFrame'>\n",
      "(455, 921)\n",
      "(455, 1)\n",
      "(81, 921)\n",
      "(81, 1)\n",
      "(536, 921)\n",
      "(536, 1)\n"
     ]
    }
   ],
   "source": [
    "print(type(data_train_regressors_subset))\n",
    "print(data_train_regressors_subset.shape)\n",
    "print(data_train_targets_subset.shape)\n",
    "print(data_test_regressors_subset.shape)\n",
    "print(data_test_targets_subset.shape)\n",
    "\n",
    "# \n",
    "# combine the dataframes vertically\n",
    "xxx = pd.concat([data_train_regressors_subset,data_test_regressors_subset])\n",
    "print(xxx.shape)\n",
    "\n",
    "yyy = pd.concat([data_train_targets_subset,data_test_targets_subset])\n",
    "print(yyy.shape)\n",
    "\n",
    "# combine horizontally (to add target back to a combined dataframe)\n",
    "xxxyyy = pd.concat([xxx, yyy.set_index(xxx.index)], axis=1)\n",
    "\n",
    "# write out to a csv file\n",
    "\n",
    "input_dir5 = '.\\\\..\\\\data\\\\'\n",
    "    \n",
    "xxxyyy.to_csv(input_dir5 + r'combined_data5.csv')\n",
    "\n"
   ]
  },
  {
   "cell_type": "code",
   "execution_count": 8,
   "metadata": {},
   "outputs": [
    {
     "name": "stdout",
     "output_type": "stream",
     "text": [
      "<class 'numpy.ndarray'>\n",
      "<class 'numpy.ndarray'>\n",
      "<class 'numpy.ndarray'>\n",
      "<class 'pandas.core.frame.DataFrame'>\n",
      "(455, 921)\n",
      "(455,)\n",
      "(81, 921)\n",
      "(81, 1)\n",
      "(536, 921)\n",
      "(536, 1)\n"
     ]
    }
   ],
   "source": [
    "print(type(X_train))\n",
    "print(type(y_train))\n",
    "print(type(X_test))\n",
    "print(type(y_test))\n",
    "\n",
    "# print(X_train.size)\n",
    "print(X_train.shape)\n",
    "print(y_train.shape)\n",
    "print(X_test.shape)\n",
    "print(y_test.shape)\n",
    "\n",
    "#\n",
    "# combine train and test arrrays\n",
    "#\n",
    "X_combined = np.vstack((X_train, X_test))\n",
    "print(X_combined.shape)\n",
    "y_train3 = y_train.reshape((455,1))\n",
    "y_combined = np.vstack((y_train3, y_test))\n",
    "print(y_combined.shape)\n",
    "\n",
    "xy_combined = np.concatenate((X_combined, y_combined),axis=1)\n",
    "\n",
    "\n",
    "input_dir3 = '.\\\\..\\\\data\\\\'\n",
    "\n",
    "#\n",
    "# write numpy array back to csv\n",
    "\n",
    "\n",
    "\n",
    "np.savetxt(input_dir3 + r'combined_data3.csv', xy_combined, delimiter=\",\")\n",
    "\n"
   ]
  },
  {
   "cell_type": "markdown",
   "metadata": {},
   "source": [
    "### XGBoost Model"
   ]
  },
  {
   "cell_type": "markdown",
   "metadata": {},
   "source": [
    "#### Out-of-the-box using the Scikit-learn interface"
   ]
  },
  {
   "cell_type": "code",
   "execution_count": 8,
   "metadata": {},
   "outputs": [
    {
     "name": "stdout",
     "output_type": "stream",
     "text": [
      "RMSE of XGBoost out-of-the-box is: 5.062785174026983\n"
     ]
    }
   ],
   "source": [
    "XGB = xgb.XGBRegressor(random_state=42 ,objective='reg:squarederror', subsample=0.9)\n",
    "XGB.fit( X_train,y_train)\n",
    "#Make predictions\n",
    "predictions = XGB.predict(X_test) \n",
    "\n",
    "mse= mean_squared_error(y_test, predictions)\n",
    "print(\"RMSE of XGBoost out-of-the-box is:\", np.sqrt(mse))"
   ]
  },
  {
   "cell_type": "markdown",
   "metadata": {},
   "source": [
    "#### Tuning of the Algorithm"
   ]
  },
  {
   "cell_type": "code",
   "execution_count": 9,
   "metadata": {},
   "outputs": [],
   "source": [
    "cv_folds = 5\n",
    "\n",
    "scorer = make_scorer(mean_squared_error ,greater_is_better=False)"
   ]
  },
  {
   "cell_type": "markdown",
   "metadata": {},
   "source": [
    "Step 1. Tune the number of estimators"
   ]
  },
  {
   "cell_type": "code",
   "execution_count": 10,
   "metadata": {},
   "outputs": [
    {
     "name": "stdout",
     "output_type": "stream",
     "text": [
      "Optimal number of estimators: 100\n"
     ]
    }
   ],
   "source": [
    "model = xgb.XGBRegressor(random_state=42,\n",
    "                         objective='reg:squarederror',\n",
    "                         max_depth=5, \n",
    "                         min_child_weight = 1, \n",
    "                         gamma = 0, \n",
    "                         subsample=0.9, \n",
    "                         colsample_bytree = 0.8, \n",
    "                         scale_pos_weight = 1)\n",
    "\n",
    "param = model.get_xgb_params()\n",
    "data_matrix = xgb.DMatrix(X_train, label=y_train)\n",
    "cvresult = xgb.cv(param, data_matrix, num_boost_round=model.get_params()['n_estimators'], nfold=cv_folds,\n",
    "            metrics='rmse', early_stopping_rounds=50)\n",
    "#Set the optimised number of estimators\n",
    "model.set_params(n_estimators=cvresult.shape[0])\n",
    "print(\"Optimal number of estimators:\", cvresult.shape[0])"
   ]
  },
  {
   "cell_type": "code",
   "execution_count": 8,
   "metadata": {},
   "outputs": [
    {
     "name": "stdout",
     "output_type": "stream",
     "text": [
      "RMSE of xgboost after tuning (step 1) is: 5.418787503109928\n"
     ]
    }
   ],
   "source": [
    "model.fit( X_train,y_train)\n",
    "#Make predictions\n",
    "predictions = model.predict(X_test) \n",
    "\n",
    "mse= mean_squared_error(y_test, predictions)\n",
    "print(\"RMSE of xgboost after tuning (step 1) is:\", np.sqrt(mse))"
   ]
  },
  {
   "cell_type": "markdown",
   "metadata": {},
   "source": [
    "Step 2. Tune max_depth and min_child_weight"
   ]
  },
  {
   "cell_type": "code",
   "execution_count": 11,
   "metadata": {},
   "outputs": [
    {
     "name": "stdout",
     "output_type": "stream",
     "text": [
      "RMSE of xgboost after tuning (step 2) is: 5.252244194544083\n"
     ]
    }
   ],
   "source": [
    "params = {\n",
    " 'max_depth':range(3,10,2),\n",
    " 'min_child_weight':range(1,6,2)\n",
    "}\n",
    "\n",
    "grid_model = GridSearchCV(model, param_grid = params, scoring=scorer,\n",
    "                        n_jobs=4,iid=False, cv=5)\n",
    "grid_model.fit(X_train,y_train)\n",
    "\n",
    "#Score the best model using the test data\n",
    "model = grid_model.best_estimator_\n",
    "model.fit( X_train,y_train)\n",
    "#Make predictions\n",
    "predictions = model.predict(X_test) \n",
    "\n",
    "mse= mean_squared_error(y_test, predictions)\n",
    "print(\"RMSE of xgboost after tuning (step 2) is:\", np.sqrt(mse))"
   ]
  },
  {
   "cell_type": "markdown",
   "metadata": {},
   "source": [
    "The result of our test shows that the performance of the model after tuning was actually worse than before. The model is generalising very poorly. This may be a reflection on some kind of bias introduced in creating our training and data subsets. It would be worth looking at how I decided to discard any countries early on that did not have target values for the target year, 2010. It may have made more sense to window the data and split into training and test subsets and then, after, discard any observations that did not have a target value. "
   ]
  },
  {
   "cell_type": "code",
   "execution_count": 12,
   "metadata": {},
   "outputs": [
    {
     "data": {
      "text/plain": [
       "{'max_depth': 9, 'min_child_weight': 1}"
      ]
     },
     "execution_count": 12,
     "metadata": {},
     "output_type": "execute_result"
    }
   ],
   "source": [
    "grid_model.best_params_"
   ]
  },
  {
   "cell_type": "markdown",
   "metadata": {},
   "source": [
    "Step 3. Tune Gamma"
   ]
  },
  {
   "cell_type": "code",
   "execution_count": 13,
   "metadata": {},
   "outputs": [
    {
     "name": "stdout",
     "output_type": "stream",
     "text": [
      "RMSE of xgboost after tuning (step 3) is: 5.252244194544083\n"
     ]
    }
   ],
   "source": [
    "params = {\n",
    " 'gamma':[i/10.0 for i in range(0,5)]\n",
    "}\n",
    "\n",
    "\n",
    "\n",
    "grid_model = GridSearchCV(model, param_grid = params, scoring=scorer,\n",
    "                        n_jobs=4,iid=False, cv=5)\n",
    "grid_model.fit(X_train,y_train)\n",
    "\n",
    "#Score the best model using the test data\n",
    "model = grid_model.best_estimator_\n",
    "model.fit( X_train,y_train)\n",
    "#Make predictions\n",
    "predictions = model.predict(X_test) \n",
    "\n",
    "mse= mean_squared_error(y_test, predictions)\n",
    "print(\"RMSE of xgboost after tuning (step 3) is:\", np.sqrt(mse))"
   ]
  },
  {
   "cell_type": "code",
   "execution_count": 14,
   "metadata": {},
   "outputs": [
    {
     "data": {
      "text/plain": [
       "{'gamma': 0.0}"
      ]
     },
     "execution_count": 14,
     "metadata": {},
     "output_type": "execute_result"
    }
   ],
   "source": [
    "grid_model.best_params_"
   ]
  },
  {
   "cell_type": "markdown",
   "metadata": {},
   "source": [
    "Step 4. Tune Regularization"
   ]
  },
  {
   "cell_type": "code",
   "execution_count": 15,
   "metadata": {},
   "outputs": [
    {
     "name": "stdout",
     "output_type": "stream",
     "text": [
      "RMSE of xgboost after tuning (step 4) is: 5.139286222900817\n"
     ]
    }
   ],
   "source": [
    "params = {\n",
    " 'reg_alpha':[1e-5, 1e-2, 0.1, 1]\n",
    "}\n",
    "\n",
    "grid_model = GridSearchCV(model, param_grid = params, scoring=scorer,\n",
    "                        n_jobs=4,iid=False, cv=5 ,return_train_score=True)\n",
    "grid_model.fit(X_train,y_train)\n",
    "\n",
    "#Score the best model using the test data\n",
    "model = grid_model.best_estimator_\n",
    "model.fit( X_train,y_train)\n",
    "#Make predictions\n",
    "predictions = model.predict(X_test) \n",
    "\n",
    "mse= mean_squared_error(y_test, predictions)\n",
    "print(\"RMSE of xgboost after tuning (step 4) is:\", np.sqrt(mse))"
   ]
  },
  {
   "cell_type": "code",
   "execution_count": 16,
   "metadata": {},
   "outputs": [
    {
     "data": {
      "text/plain": [
       "{'reg_alpha': 1e-05}"
      ]
     },
     "execution_count": 16,
     "metadata": {},
     "output_type": "execute_result"
    }
   ],
   "source": [
    "grid_model.best_params_"
   ]
  },
  {
   "cell_type": "code",
   "execution_count": 17,
   "metadata": {},
   "outputs": [
    {
     "name": "stdout",
     "output_type": "stream",
     "text": [
      "RMSE of xgboost after tuning (step 5) is: 5.139286222900817\n"
     ]
    }
   ],
   "source": [
    "params = {\n",
    " 'reg_lambda':[1e-5, 1e-2, 0.1, 1]\n",
    "}\n",
    "\n",
    "grid_model = GridSearchCV(model, param_grid = params, scoring=scorer,\n",
    "                        n_jobs=4,iid=False, cv=5 ,return_train_score=True)\n",
    "grid_model.fit(X_train,y_train)\n",
    "\n",
    "#Score the best model using the test data\n",
    "model = grid_model.best_estimator_\n",
    "model.fit( X_train,y_train)\n",
    "#Make predictions\n",
    "predictions = model.predict(X_test) \n",
    "\n",
    "mse= mean_squared_error(y_test, predictions)\n",
    "print(\"RMSE of xgboost after tuning (step 5) is:\", np.sqrt(mse))"
   ]
  },
  {
   "cell_type": "markdown",
   "metadata": {},
   "source": [
    "### XGBoost Model with no Imputation"
   ]
  },
  {
   "cell_type": "code",
   "execution_count": 18,
   "metadata": {},
   "outputs": [
    {
     "name": "stdout",
     "output_type": "stream",
     "text": [
      "Wall time: 2.11 s\n"
     ]
    }
   ],
   "source": [
    "%time data_regressors, data_targets = \\\n",
    "        preprocess.window_data(data, lag=3,num_windows=10, step=1, predict_year=2010, \\\n",
    "                         target=target)\n",
    "\n",
    "#Break up into training and testing data.\n",
    "\n",
    "idx = pd.IndexSlice\n",
    "data_train_regressors = data_regressors.loc[idx[:,2:10],:]\n",
    "data_train_targets = data_targets.loc[idx[:,2:10],:]\n",
    "data_test_regressors = data_regressors.loc[idx[:,1],:]\n",
    "data_test_targets= data_targets.loc[idx[:,1],:]\n",
    "\n",
    "#For Training, only consider windows that don't have a missing target as they offer nothing to training\n",
    "#Therefore, remove those observations from both the training regressors and targets datasets.\n",
    "data_train_regressors_subset = data_train_regressors[~np.isnan(list(data_train_targets.values.flatten()))]\n",
    "data_train_targets_subset = data_train_targets[~np.isnan(list(data_train_targets.values.flatten()))]\n",
    "\n",
    "#For testing, also remove windows with no target variable as it is impossible to measure preformance.\n",
    "data_test_regressors_subset = data_test_regressors[~np.isnan(list(data_test_targets.values.flatten()))]\n",
    "data_test_targets_subset = data_test_targets[~np.isnan(list(data_test_targets.values.flatten()))]\n",
    "\n",
    "X_train_miss = data_train_regressors_subset.values\n",
    "y_train_miss = data_train_targets_subset.values.ravel()\n",
    "X_test_miss = data_test_regressors_subset.values\n",
    "y_test_miss = data_test_targets_subset\n"
   ]
  },
  {
   "cell_type": "markdown",
   "metadata": {},
   "source": [
    "#### Out-of-the-box xgboost on data without imputation"
   ]
  },
  {
   "cell_type": "markdown",
   "metadata": {},
   "source": [
    "Hand-tuning of the XGBoost model. I pick some important paramneters and play around until I get a good result. I'm sure there is more accuracy that can be obtained from this model by gridsearching but I think this is enough to illustrate that using a XGBoost (or perhaps any tree-based predictive algo) without any imputation done on the input data gives by far the best results of any of the models tried."
   ]
  },
  {
   "cell_type": "code",
   "execution_count": 19,
   "metadata": {},
   "outputs": [
    {
     "name": "stdout",
     "output_type": "stream",
     "text": [
      "RMSE of XGBoost out-of-the-box is: 4.9376482439849445\n"
     ]
    }
   ],
   "source": [
    "XGB = xgb.XGBRegressor(n_estimators=200,  objective='reg:squarederror',max_depth=7, subsample=0.87, reg_lambda=0.2)\n",
    "XGB.fit( X_train_miss,y_train_miss)\n",
    "#Make predictions\n",
    "predictions = XGB.predict(X_test_miss) \n",
    "\n",
    "mse= mean_squared_error(y_test_miss, predictions)\n",
    "print(\"RMSE of XGBoost out-of-the-box is:\", np.sqrt(mse))"
   ]
  },
  {
   "cell_type": "code",
   "execution_count": null,
   "metadata": {},
   "outputs": [],
   "source": []
  }
 ],
 "metadata": {
  "kernelspec": {
   "display_name": "Python 3 (ipykernel)",
   "language": "python",
   "name": "python3"
  },
  "language_info": {
   "codemirror_mode": {
    "name": "ipython",
    "version": 3
   },
   "file_extension": ".py",
   "mimetype": "text/x-python",
   "name": "python",
   "nbconvert_exporter": "python",
   "pygments_lexer": "ipython3",
   "version": "3.7.11"
  }
 },
 "nbformat": 4,
 "nbformat_minor": 2
}
